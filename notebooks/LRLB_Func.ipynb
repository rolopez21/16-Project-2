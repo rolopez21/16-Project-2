{
 "cells": [
  {
   "cell_type": "code",
   "execution_count": null,
   "metadata": {},
   "outputs": [],
   "source": [
    "import pandas as pd\n",
    "import numpy as np\n",
    "%matplotlib inline\n",
    "import warnings\n",
    "from pathlib import Path\n",
    "warnings.filterwarnings('ignore')"
   ]
  },
  {
   "cell_type": "code",
   "execution_count": null,
   "metadata": {},
   "outputs": [],
   "source": [
    "from sklearn.linear_model import LinearRegression\n",
    "from sklearn.metrics import mean_squared_error, r2_score"
   ]
  },
  {
   "cell_type": "code",
   "execution_count": null,
   "metadata": {},
   "outputs": [],
   "source": [
    "csvpath = Path('../data/cleandata/Data.csv')\n",
    "Master_df = pd.read_csv(csvpath, parse_dates=True, index_col='Date')"
   ]
  },
  {
   "cell_type": "code",
   "execution_count": null,
   "metadata": {},
   "outputs": [],
   "source": [
    "def LRLB(Master_df):\n",
    "   \n",
    "    df = Master_df\n",
    "    \n",
    "    df['VLO_Return'] = df['VLO'].pct_change() * 100\n",
    "    df['Brent_Return'] = df['Brent'].pct_change() * 100\n",
    "    df['Lagged_Brent_Return'] = df.Brent_Return.shift()\n",
    "    df = df.dropna()\n",
    "    \n",
    "    train = df['2017':'2018']\n",
    "    test = df['2019']\n",
    "    \n",
    "    X_train = train[\"Lagged_Brent_Return\"].to_frame()\n",
    "    y_train = train[\"VLO_Return\"]\n",
    "    X_test = test[\"Lagged_Brent_Return\"].to_frame()\n",
    "    y_test = test[\"VLO_Return\"]\n",
    "    \n",
    "    model = LinearRegression()\n",
    "    model.fit(X_train, y_train)\n",
    "    predictions = model.predict(X_test)\n",
    "    \n",
    "    out_of_sample_results = y_test.to_frame()\n",
    "    \n",
    "    out_of_sample_results[\"Out-of-Sample Predictions\"] = model.predict(X_test)\n",
    "    \n",
    "    out_of_sample_mse = mean_squared_error(\n",
    "    out_of_sample_results[\"VLO_Return\"],\n",
    "    out_of_sample_results[\"Out-of-Sample Predictions\"])\n",
    "    \n",
    "    out_of_sample_rmse = np.sqrt(out_of_sample_mse)\n",
    "\n",
    "    weeks = df.index.to_period(\"w\").unique()\n",
    "\n",
    "    training_window = 5\n",
    "    timeframe = len(weeks) - training_window - 1\n",
    "\n",
    "    all_predictions = pd.DataFrame(columns=[\"Out-of-Sample Predictions\"])\n",
    "    all_actuals = pd.DataFrame(columns=[\"Actual Returns\"])\n",
    "    \n",
    "    for i in range(0, timeframe):    \n",
    "        # Beginning of training window\n",
    "        start_of_training_period = weeks[i].start_time.strftime(format=\"%Y-%m-%d\")\n",
    "    \n",
    "        # End of training window\n",
    "        end_of_training_period = weeks[training_window+i].end_time.strftime(format=\"%Y-%m-%d\")\n",
    "\n",
    "        # Window of test-window data\n",
    "        test_week = weeks[training_window + i + 1]\n",
    "    \n",
    "        # String of testing window\n",
    "        start_of_test_week  = test_week.start_time.strftime(format=\"%Y-%m-%d\")\n",
    "        end_of_test_week = test_week.end_time.strftime(format=\"%Y-%m-%d\")\n",
    "    \n",
    "        train = df.loc[start_of_training_period:end_of_training_period]\n",
    "        test = df.loc[start_of_test_week:end_of_test_week]\n",
    "    \n",
    "        # Create new dataframes:\n",
    "        X_train = train[\"Lagged_Brent_Return\"].to_frame()\n",
    "        y_train = train[\"VLO_Return\"]\n",
    "        X_test = test[\"Lagged_Brent_Return\"].to_frame()\n",
    "        y_test = test[\"VLO_Return\"]\n",
    "\n",
    "        model = LinearRegression()\n",
    "        model.fit(X_train, y_train)\n",
    "        predictions = model.predict(X_test)\n",
    "    \n",
    "        # Create a temporary dataframe to hold predictions\n",
    "        predictions = pd.DataFrame(predictions, index=X_test.index, columns=[\"Out-of-Sample Predictions\"])\n",
    "    \n",
    "        # Create a temporary DataFrame of the actual \"y\"s in the test dataframe, with column name=\"Actual Returns\": \n",
    "        actuals = pd.DataFrame(y_test, index=y_test.index)\n",
    "        actuals.columns = [\"Actual Returns\"]  \n",
    "    \n",
    "        # Append these two dataframes (predictions and actuals) to the two master DataFrames built outside the loop\n",
    "        all_predictions = all_predictions.append(predictions)\n",
    "        all_actuals = all_actuals.append(actuals) \n",
    "    Results = pd.concat([all_actuals, all_predictions], axis=1)\n",
    "\n",
    "    results_2019 = Results.loc['2019':]\n",
    "    \n",
    "    mse = mean_squared_error(\n",
    "    results_2019[\"Actual Returns\"],\n",
    "    results_2019[\"Out-of-Sample Predictions\"])\n",
    "\n",
    "    # Using that mean-squared-error, calculate the root-mean-squared error (RMSE):\n",
    "    rolling_rmse = np.sqrt(mse)\n",
    "    \n",
    "    RMSE = print(f\"Out-of-sample Root Mean Squared Error (RMSE): {out_of_sample_rmse}\")\n",
    "    RRMSE = print(f\"Rolling Out-of-Sample Root Mean Squared Error (RMSE): {rolling_rmse}\")\n",
    "    \n",
    "    \n",
    "    results_2019 = results_2019\n",
    "    results = results_2019.plot(subplots=True) \n",
    "    \n",
    "    \n",
    "    return RMSE, RRMSE, results_2019, results  "
   ]
  },
  {
   "cell_type": "code",
   "execution_count": null,
   "metadata": {},
   "outputs": [],
   "source": [
    "LRLB(Master_df)"
   ]
  },
  {
   "cell_type": "code",
   "execution_count": null,
   "metadata": {},
   "outputs": [],
   "source": []
  }
 ],
 "metadata": {
  "kernelspec": {
   "display_name": "Python 3",
   "language": "python",
   "name": "python3"
  },
  "language_info": {
   "codemirror_mode": {
    "name": "ipython",
    "version": 3
   },
   "file_extension": ".py",
   "mimetype": "text/x-python",
   "name": "python",
   "nbconvert_exporter": "python",
   "pygments_lexer": "ipython3",
   "version": "3.7.4"
  }
 },
 "nbformat": 4,
 "nbformat_minor": 4
}
