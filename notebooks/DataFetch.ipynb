{
 "cells": [
  {
   "cell_type": "code",
   "execution_count": 4,
   "metadata": {},
   "outputs": [],
   "source": [
    "import quandl\n",
    "import pandas as pd\n",
    "from path import Path\n",
    "import seaborn as sns\n",
    "import os\n",
    "import matplotlib.pyplot as plt\n",
    "\n",
    "from datetime import date, timedelta\n"
   ]
  },
  {
   "cell_type": "code",
   "execution_count": 5,
   "metadata": {},
   "outputs": [],
   "source": [
    "file_path = Path(\"../data/cleandata/VLO_Daily.csv\")\n",
    "VLO = pd.read_csv(file_path, index_col=\"Date\", parse_dates=True, infer_datetime_format=True)\n",
    "VLO.rename(columns={\"Adj Close\": \"VLO\"}, inplace=True)"
   ]
  },
  {
   "cell_type": "code",
   "execution_count": 6,
   "metadata": {},
   "outputs": [],
   "source": [
    "\n",
    "#yesterday = date.today() - timedelta(days=1)\n",
    "#yesterday.strftime('%Y-%m-%d')\n"
   ]
  },
  {
   "cell_type": "code",
   "execution_count": 7,
   "metadata": {},
   "outputs": [],
   "source": [
    "start = '2017-01-01'\n",
    "end = '2019-06-30'"
   ]
  },
  {
   "cell_type": "code",
   "execution_count": 54,
   "metadata": {},
   "outputs": [],
   "source": [
    "#USE YOUR API KEY\n",
    "quandl.ApiConfig.api_key = 'DKz2PtZF4s2ArXG4caAt'"
   ]
  },
  {
   "cell_type": "code",
   "execution_count": 8,
   "metadata": {},
   "outputs": [],
   "source": [
    "#Crude Oil Futures, Continuous Contract #1 (CL1) (Front Month)\n",
    "#Crude1 = quandl.get(\"CHRIS/CME_CL1\", authtoken=\"DKz2PtZF4s2ArXG4caAt\")\n",
    "\n",
    "Crude1=quandl.get('CHRIS/CME_CL1', start_date=start, end_date=end)\n",
    "WTI_Midland=quandl.get('CHRIS/CME_AFF1', start_date=start, end_date=end)\n",
    "Brent = quandl.get(\"CHRIS/ICE_B1\", start_date=start, end_date=end)\n",
    "RBOB = quandl.get(\"CHRIS/CME_RB1\", start_date=start, end_date=end)\n",
    "Ethanol = quandl.get(\"CHRIS/CME_EH1\", start_date=start, end_date=end)\n",
    "Corn = quandl.get(\"CHRIS/CME_C1\", start_date=start, end_date=end)\n",
    "CAD_Heavy = quandl.get(\"CHRIS/CME_WCC1\", start_date=start, end_date=end)\n",
    "VIX = quandl.get(\"CHRIS/CBOE_VX1\", start_date=start, end_date=end)\n",
    "ULSD = quandl.get(\"CHRIS/CME_HO1\",start_date=start, end_date=end)\n",
    "OPEC_Basket = quandl.get(\"OPEC/ORB\", start_date=start, end_date=end)\n",
    "RBOB_Crack = quandl.get(\"CHRIS/CME_RM1\", start_date=start, end_date=end)\n",
    "GC_ULSD_Crack = quandl.get(\"CHRIS/CME_GY1\", start_date=start, end_date=end)\n",
    "NY_ULSD_Crack = quandl.get(\"CHRIS/CME_HK1\", start_date=start, end_date=end)\n",
    "NG_HB = quandl.get(\"CHRIS/CME_NG1\", start_date=start, end_date=end)\n",
    "S_P = quandl.get(\"CHRIS/CME_SP1\", start_date=start, end_date=end)\n"
   ]
  },
  {
   "cell_type": "code",
   "execution_count": 9,
   "metadata": {},
   "outputs": [],
   "source": [
    "dfs = [Crude1,WTI_Midland,Brent,RBOB,Ethanol,Corn,CAD_Heavy,VIX,ULSD,OPEC_Basket,\n",
    "     RBOB_Crack,GC_ULSD_Crack,NY_ULSD_Crack,NG_HB,S_P, VLO]\n"
   ]
  },
  {
   "cell_type": "code",
   "execution_count": 10,
   "metadata": {},
   "outputs": [],
   "source": [
    "columns = ['Crude1','WTI_Midland','Brent','RBOB','Ethanol','Corn','CAD_Heavy','VIX','ULSD','OPEC_Basket',\n",
    "     'RBOB_Crack','GC_ULSD_Crack','NY_ULSD_Crack','NG_HB','S_P','VLO']"
   ]
  },
  {
   "cell_type": "code",
   "execution_count": 11,
   "metadata": {},
   "outputs": [],
   "source": [
    "Crude1.rename(columns={\"Settle\": \"Crude1\"}, inplace=True)\n",
    "WTI_Midland.rename(columns={\"Settle\": \"WTI_Midland\"}, inplace=True)\n",
    "Brent.rename(columns={\"Settle\": \"Brent\"}, inplace=True)\n",
    "RBOB.rename(columns={\"Settle\": \"RBOB\"}, inplace=True)\n",
    "Ethanol.rename(columns={\"Settle\": \"Ethanol\"}, inplace=True)\n",
    "Corn.rename(columns={\"Settle\": \"Corn\"}, inplace=True)\n",
    "CAD_Heavy.rename(columns={\"Settle\": \"CAD_Heavy\"}, inplace=True)\n",
    "VIX.rename(columns={\"Settle\": \"VIX\"}, inplace=True)\n",
    "ULSD.rename(columns={\"Settle\": \"ULSD\"}, inplace=True)\n",
    "OPEC_Basket.rename(columns={\"Value\": \"OPEC_Basket\"}, inplace=True) \n",
    "RBOB_Crack.rename(columns={\"Settle\": \"RBOB_Crack\"}, inplace=True)\n",
    "GC_ULSD_Crack.rename(columns={\"Settle\": \"GC_ULSD_Crack\"}, inplace=True)\n",
    "NY_ULSD_Crack.rename(columns={\"Settle\": \"NY_ULSD_Crack\"}, inplace=True)\n",
    "NG_HB.rename(columns={\"Settle\": \"NG_HB\"}, inplace=True)\n",
    "S_P.rename(columns={\"Settle\": \"S_P\"}, inplace=True)"
   ]
  },
  {
   "cell_type": "code",
   "execution_count": 12,
   "metadata": {},
   "outputs": [],
   "source": [
    "concat = pd.concat(dfs, axis=1, join='inner')"
   ]
  },
  {
   "cell_type": "code",
   "execution_count": 13,
   "metadata": {},
   "outputs": [],
   "source": [
    "df = concat[columns]\n"
   ]
  },
  {
   "cell_type": "code",
   "execution_count": 14,
   "metadata": {},
   "outputs": [
    {
     "data": {
      "text/html": [
       "<div>\n",
       "<style scoped>\n",
       "    .dataframe tbody tr th:only-of-type {\n",
       "        vertical-align: middle;\n",
       "    }\n",
       "\n",
       "    .dataframe tbody tr th {\n",
       "        vertical-align: top;\n",
       "    }\n",
       "\n",
       "    .dataframe thead th {\n",
       "        text-align: right;\n",
       "    }\n",
       "</style>\n",
       "<table border=\"1\" class=\"dataframe\">\n",
       "  <thead>\n",
       "    <tr style=\"text-align: right;\">\n",
       "      <th></th>\n",
       "      <th>Date</th>\n",
       "      <th>Crude1</th>\n",
       "      <th>WTI_Midland</th>\n",
       "      <th>Brent</th>\n",
       "      <th>RBOB</th>\n",
       "      <th>Ethanol</th>\n",
       "      <th>Corn</th>\n",
       "      <th>CAD_Heavy</th>\n",
       "      <th>VIX</th>\n",
       "      <th>ULSD</th>\n",
       "      <th>OPEC_Basket</th>\n",
       "      <th>RBOB_Crack</th>\n",
       "      <th>GC_ULSD_Crack</th>\n",
       "      <th>NY_ULSD_Crack</th>\n",
       "      <th>NG_HB</th>\n",
       "      <th>S_P</th>\n",
       "      <th>VLO</th>\n",
       "    </tr>\n",
       "  </thead>\n",
       "  <tbody>\n",
       "    <tr>\n",
       "      <th>0</th>\n",
       "      <td>2017-01-05</td>\n",
       "      <td>53.76</td>\n",
       "      <td>-0.06</td>\n",
       "      <td>56.89</td>\n",
       "      <td>1.6377</td>\n",
       "      <td>1.507</td>\n",
       "      <td>361.25</td>\n",
       "      <td>-15.044</td>\n",
       "      <td>13.025</td>\n",
       "      <td>1.6942</td>\n",
       "      <td>53.02</td>\n",
       "      <td>21.45</td>\n",
       "      <td>14.58</td>\n",
       "      <td>17.13</td>\n",
       "      <td>3.273</td>\n",
       "      <td>2264.3</td>\n",
       "      <td>60.913052</td>\n",
       "    </tr>\n",
       "    <tr>\n",
       "      <th>1</th>\n",
       "      <td>2017-01-06</td>\n",
       "      <td>53.99</td>\n",
       "      <td>-0.11</td>\n",
       "      <td>57.10</td>\n",
       "      <td>1.6340</td>\n",
       "      <td>1.551</td>\n",
       "      <td>358.00</td>\n",
       "      <td>-14.459</td>\n",
       "      <td>12.875</td>\n",
       "      <td>1.7032</td>\n",
       "      <td>53.50</td>\n",
       "      <td>21.45</td>\n",
       "      <td>14.69</td>\n",
       "      <td>17.27</td>\n",
       "      <td>3.285</td>\n",
       "      <td>2271.5</td>\n",
       "      <td>59.995037</td>\n",
       "    </tr>\n",
       "    <tr>\n",
       "      <th>2</th>\n",
       "      <td>2017-01-09</td>\n",
       "      <td>51.96</td>\n",
       "      <td>-0.22</td>\n",
       "      <td>54.94</td>\n",
       "      <td>1.5707</td>\n",
       "      <td>1.524</td>\n",
       "      <td>360.00</td>\n",
       "      <td>-14.296</td>\n",
       "      <td>12.925</td>\n",
       "      <td>1.6376</td>\n",
       "      <td>52.85</td>\n",
       "      <td>20.94</td>\n",
       "      <td>14.27</td>\n",
       "      <td>16.68</td>\n",
       "      <td>3.103</td>\n",
       "      <td>2265.0</td>\n",
       "      <td>59.734032</td>\n",
       "    </tr>\n",
       "    <tr>\n",
       "      <th>3</th>\n",
       "      <td>2017-01-10</td>\n",
       "      <td>50.82</td>\n",
       "      <td>-0.17</td>\n",
       "      <td>53.64</td>\n",
       "      <td>1.5467</td>\n",
       "      <td>1.503</td>\n",
       "      <td>358.25</td>\n",
       "      <td>-14.193</td>\n",
       "      <td>12.875</td>\n",
       "      <td>1.6114</td>\n",
       "      <td>51.46</td>\n",
       "      <td>21.15</td>\n",
       "      <td>14.44</td>\n",
       "      <td>16.72</td>\n",
       "      <td>3.278</td>\n",
       "      <td>2263.7</td>\n",
       "      <td>59.878029</td>\n",
       "    </tr>\n",
       "    <tr>\n",
       "      <th>4</th>\n",
       "      <td>2017-01-11</td>\n",
       "      <td>52.25</td>\n",
       "      <td>-0.17</td>\n",
       "      <td>55.10</td>\n",
       "      <td>1.5929</td>\n",
       "      <td>1.492</td>\n",
       "      <td>357.25</td>\n",
       "      <td>-14.232</td>\n",
       "      <td>12.525</td>\n",
       "      <td>1.6524</td>\n",
       "      <td>50.98</td>\n",
       "      <td>21.64</td>\n",
       "      <td>14.67</td>\n",
       "      <td>16.96</td>\n",
       "      <td>3.224</td>\n",
       "      <td>2270.6</td>\n",
       "      <td>60.373043</td>\n",
       "    </tr>\n",
       "  </tbody>\n",
       "</table>\n",
       "</div>"
      ],
      "text/plain": [
       "        Date  Crude1  WTI_Midland  Brent    RBOB  Ethanol    Corn  CAD_Heavy  \\\n",
       "0 2017-01-05   53.76        -0.06  56.89  1.6377    1.507  361.25    -15.044   \n",
       "1 2017-01-06   53.99        -0.11  57.10  1.6340    1.551  358.00    -14.459   \n",
       "2 2017-01-09   51.96        -0.22  54.94  1.5707    1.524  360.00    -14.296   \n",
       "3 2017-01-10   50.82        -0.17  53.64  1.5467    1.503  358.25    -14.193   \n",
       "4 2017-01-11   52.25        -0.17  55.10  1.5929    1.492  357.25    -14.232   \n",
       "\n",
       "      VIX    ULSD  OPEC_Basket  RBOB_Crack  GC_ULSD_Crack  NY_ULSD_Crack  \\\n",
       "0  13.025  1.6942        53.02       21.45          14.58          17.13   \n",
       "1  12.875  1.7032        53.50       21.45          14.69          17.27   \n",
       "2  12.925  1.6376        52.85       20.94          14.27          16.68   \n",
       "3  12.875  1.6114        51.46       21.15          14.44          16.72   \n",
       "4  12.525  1.6524        50.98       21.64          14.67          16.96   \n",
       "\n",
       "   NG_HB     S_P        VLO  \n",
       "0  3.273  2264.3  60.913052  \n",
       "1  3.285  2271.5  59.995037  \n",
       "2  3.103  2265.0  59.734032  \n",
       "3  3.278  2263.7  59.878029  \n",
       "4  3.224  2270.6  60.373043  "
      ]
     },
     "execution_count": 14,
     "metadata": {},
     "output_type": "execute_result"
    }
   ],
   "source": [
    "df = df.reset_index()\n",
    "df = df.rename(columns={\"index\":\"Date\"})\n",
    "df.head()"
   ]
  },
  {
   "cell_type": "code",
   "execution_count": 15,
   "metadata": {},
   "outputs": [
    {
     "data": {
      "text/plain": [
       "WTI_Midland     -0.757277\n",
       "CAD_Heavy       -0.573175\n",
       "Ethanol         -0.474131\n",
       "NG_HB           -0.197571\n",
       "RBOB_Crack      -0.016568\n",
       "Corn             0.042483\n",
       "VIX              0.209882\n",
       "NY_ULSD_Crack    0.450836\n",
       "GC_ULSD_Crack    0.467905\n",
       "S_P              0.788918\n",
       "RBOB             0.801304\n",
       "ULSD             0.904561\n",
       "OPEC_Basket      0.912794\n",
       "Crude1           0.915892\n",
       "Brent            0.926579\n",
       "VLO              1.000000\n",
       "Name: VLO, dtype: float64"
      ]
     },
     "execution_count": 15,
     "metadata": {},
     "output_type": "execute_result"
    }
   ],
   "source": [
    "correlation = df.corr()\n",
    "correlation['VLO'].sort_values()"
   ]
  },
  {
   "cell_type": "code",
   "execution_count": 16,
   "metadata": {},
   "outputs": [
    {
     "data": {
      "text/plain": [
       "<AxesSubplot:>"
      ]
     },
     "execution_count": 16,
     "metadata": {},
     "output_type": "execute_result"
    },
    {
     "data": {
      "image/png": "[encoded data removed]",
      "text/plain": [
       "<Figure size 360x360 with 2 Axes>"
      ]
     },
     "metadata": {
      "needs_background": "light"
     },
     "output_type": "display_data"
    }
   ],
   "source": [
    "plt.figure(figsize=(5, 5))\n",
    "sns.heatmap(correlation)"
   ]
  },
  {
   "cell_type": "code",
   "execution_count": 63,
   "metadata": {},
   "outputs": [],
   "source": [
    "#save to csv\n",
    "df.to_csv(r'../data/cleandata/Data.csv',index=False)\n"
   ]
  },
  {
   "cell_type": "code",
   "execution_count": null,
   "metadata": {},
   "outputs": [],
   "source": []
  }
 ],
 "metadata": {
  "kernelspec": {
   "display_name": "Python 3.10.5 64-bit",
   "language": "python",
   "name": "python3"
  },
  "language_info": {
   "codemirror_mode": {
    "name": "ipython",
    "version": 3
   },
   "file_extension": ".py",
   "mimetype": "text/x-python",
   "name": "python",
   "nbconvert_exporter": "python",
   "pygments_lexer": "ipython3",
   "version": "3.10.5"
  },
  "vscode": {
   "interpreter": {
    "hash": "3d4b713e85380f88a00777cdcdc0b317b22afcd9ce36339ad381340bf82814c9"
   }
  }
 },
 "nbformat": 4,
 "nbformat_minor": 4
}
