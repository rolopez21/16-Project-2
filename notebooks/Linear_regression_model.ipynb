{
 "cells": [
  {
   "cell_type": "code",
   "execution_count": 1,
   "metadata": {},
   "outputs": [],
   "source": [
    "import pandas as pd\n",
    "import numpy as np\n",
    "%matplotlib inline\n",
    "import warnings\n",
    "warnings.filterwarnings('ignore')"
   ]
  },
  {
   "cell_type": "code",
   "execution_count": 3,
   "metadata": {},
   "outputs": [],
   "source": [
    "from sklearn.linear_model import LinearRegression\n",
    "from sklearn.metrics import mean_squared_error, r2_score"
   ]
  },
  {
   "cell_type": "code",
   "execution_count": 3,
   "metadata": {},
   "outputs": [
    {
     "data": {
      "text/html": [
       "<div>\n",
       "<style scoped>\n",
       "    .dataframe tbody tr th:only-of-type {\n",
       "        vertical-align: middle;\n",
       "    }\n",
       "\n",
       "    .dataframe tbody tr th {\n",
       "        vertical-align: top;\n",
       "    }\n",
       "\n",
       "    .dataframe thead th {\n",
       "        text-align: right;\n",
       "    }\n",
       "</style>\n",
       "<table border=\"1\" class=\"dataframe\">\n",
       "  <thead>\n",
       "    <tr style=\"text-align: right;\">\n",
       "      <th></th>\n",
       "      <th>Crude1</th>\n",
       "      <th>WTI_Midland</th>\n",
       "      <th>Brent</th>\n",
       "      <th>RBOB</th>\n",
       "      <th>Ethanol</th>\n",
       "      <th>Corn</th>\n",
       "      <th>CAD_Heavy</th>\n",
       "      <th>VIX</th>\n",
       "      <th>ULSD</th>\n",
       "      <th>OPEC_Basket</th>\n",
       "      <th>RBOB_Crack</th>\n",
       "      <th>GC_ULSD_Crack</th>\n",
       "      <th>NY_ULSD_Crack</th>\n",
       "      <th>NG_HB</th>\n",
       "      <th>S_P</th>\n",
       "      <th>VLO</th>\n",
       "    </tr>\n",
       "    <tr>\n",
       "      <th>Date</th>\n",
       "      <th></th>\n",
       "      <th></th>\n",
       "      <th></th>\n",
       "      <th></th>\n",
       "      <th></th>\n",
       "      <th></th>\n",
       "      <th></th>\n",
       "      <th></th>\n",
       "      <th></th>\n",
       "      <th></th>\n",
       "      <th></th>\n",
       "      <th></th>\n",
       "      <th></th>\n",
       "      <th></th>\n",
       "      <th></th>\n",
       "      <th></th>\n",
       "    </tr>\n",
       "  </thead>\n",
       "  <tbody>\n",
       "    <tr>\n",
       "      <th>2017-01-05</th>\n",
       "      <td>53.76</td>\n",
       "      <td>-0.06</td>\n",
       "      <td>56.89</td>\n",
       "      <td>1.6377</td>\n",
       "      <td>1.507</td>\n",
       "      <td>361.25</td>\n",
       "      <td>-15.044</td>\n",
       "      <td>13.025</td>\n",
       "      <td>1.6942</td>\n",
       "      <td>53.02</td>\n",
       "      <td>21.45</td>\n",
       "      <td>14.58</td>\n",
       "      <td>17.13</td>\n",
       "      <td>3.273</td>\n",
       "      <td>2264.3</td>\n",
       "      <td>60.913052</td>\n",
       "    </tr>\n",
       "    <tr>\n",
       "      <th>2017-01-06</th>\n",
       "      <td>53.99</td>\n",
       "      <td>-0.11</td>\n",
       "      <td>57.10</td>\n",
       "      <td>1.6340</td>\n",
       "      <td>1.551</td>\n",
       "      <td>358.00</td>\n",
       "      <td>-14.459</td>\n",
       "      <td>12.875</td>\n",
       "      <td>1.7032</td>\n",
       "      <td>53.50</td>\n",
       "      <td>21.45</td>\n",
       "      <td>14.69</td>\n",
       "      <td>17.27</td>\n",
       "      <td>3.285</td>\n",
       "      <td>2271.5</td>\n",
       "      <td>59.995037</td>\n",
       "    </tr>\n",
       "    <tr>\n",
       "      <th>2017-01-09</th>\n",
       "      <td>51.96</td>\n",
       "      <td>-0.22</td>\n",
       "      <td>54.94</td>\n",
       "      <td>1.5707</td>\n",
       "      <td>1.524</td>\n",
       "      <td>360.00</td>\n",
       "      <td>-14.296</td>\n",
       "      <td>12.925</td>\n",
       "      <td>1.6376</td>\n",
       "      <td>52.85</td>\n",
       "      <td>20.94</td>\n",
       "      <td>14.27</td>\n",
       "      <td>16.68</td>\n",
       "      <td>3.103</td>\n",
       "      <td>2265.0</td>\n",
       "      <td>59.734032</td>\n",
       "    </tr>\n",
       "    <tr>\n",
       "      <th>2017-01-10</th>\n",
       "      <td>50.82</td>\n",
       "      <td>-0.17</td>\n",
       "      <td>53.64</td>\n",
       "      <td>1.5467</td>\n",
       "      <td>1.503</td>\n",
       "      <td>358.25</td>\n",
       "      <td>-14.193</td>\n",
       "      <td>12.875</td>\n",
       "      <td>1.6114</td>\n",
       "      <td>51.46</td>\n",
       "      <td>21.15</td>\n",
       "      <td>14.44</td>\n",
       "      <td>16.72</td>\n",
       "      <td>3.278</td>\n",
       "      <td>2263.7</td>\n",
       "      <td>59.878029</td>\n",
       "    </tr>\n",
       "    <tr>\n",
       "      <th>2017-01-11</th>\n",
       "      <td>52.25</td>\n",
       "      <td>-0.17</td>\n",
       "      <td>55.10</td>\n",
       "      <td>1.5929</td>\n",
       "      <td>1.492</td>\n",
       "      <td>357.25</td>\n",
       "      <td>-14.232</td>\n",
       "      <td>12.525</td>\n",
       "      <td>1.6524</td>\n",
       "      <td>50.98</td>\n",
       "      <td>21.64</td>\n",
       "      <td>14.67</td>\n",
       "      <td>16.96</td>\n",
       "      <td>3.224</td>\n",
       "      <td>2270.6</td>\n",
       "      <td>60.373043</td>\n",
       "    </tr>\n",
       "  </tbody>\n",
       "</table>\n",
       "</div>"
      ],
      "text/plain": [
       "            Crude1  WTI_Midland  Brent    RBOB  Ethanol    Corn  CAD_Heavy  \\\n",
       "Date                                                                         \n",
       "2017-01-05   53.76        -0.06  56.89  1.6377    1.507  361.25    -15.044   \n",
       "2017-01-06   53.99        -0.11  57.10  1.6340    1.551  358.00    -14.459   \n",
       "2017-01-09   51.96        -0.22  54.94  1.5707    1.524  360.00    -14.296   \n",
       "2017-01-10   50.82        -0.17  53.64  1.5467    1.503  358.25    -14.193   \n",
       "2017-01-11   52.25        -0.17  55.10  1.5929    1.492  357.25    -14.232   \n",
       "\n",
       "               VIX    ULSD  OPEC_Basket  RBOB_Crack  GC_ULSD_Crack  \\\n",
       "Date                                                                 \n",
       "2017-01-05  13.025  1.6942        53.02       21.45          14.58   \n",
       "2017-01-06  12.875  1.7032        53.50       21.45          14.69   \n",
       "2017-01-09  12.925  1.6376        52.85       20.94          14.27   \n",
       "2017-01-10  12.875  1.6114        51.46       21.15          14.44   \n",
       "2017-01-11  12.525  1.6524        50.98       21.64          14.67   \n",
       "\n",
       "            NY_ULSD_Crack  NG_HB     S_P        VLO  \n",
       "Date                                                 \n",
       "2017-01-05          17.13  3.273  2264.3  60.913052  \n",
       "2017-01-06          17.27  3.285  2271.5  59.995037  \n",
       "2017-01-09          16.68  3.103  2265.0  59.734032  \n",
       "2017-01-10          16.72  3.278  2263.7  59.878029  \n",
       "2017-01-11          16.96  3.224  2270.6  60.373043  "
      ]
     },
     "execution_count": 3,
     "metadata": {},
     "output_type": "execute_result"
    }
   ],
   "source": [
    "from pathlib import Path\n",
    "csvpath = Path('../data/cleandata/Data.csv')\n",
    "df = pd.read_csv(csvpath, parse_dates=True, index_col='Date')\n",
    "df.head()"
   ]
  },
  {
   "cell_type": "code",
   "execution_count": 4,
   "metadata": {},
   "outputs": [
    {
     "data": {
      "text/html": [
       "<div>\n",
       "<style scoped>\n",
       "    .dataframe tbody tr th:only-of-type {\n",
       "        vertical-align: middle;\n",
       "    }\n",
       "\n",
       "    .dataframe tbody tr th {\n",
       "        vertical-align: top;\n",
       "    }\n",
       "\n",
       "    .dataframe thead th {\n",
       "        text-align: right;\n",
       "    }\n",
       "</style>\n",
       "<table border=\"1\" class=\"dataframe\">\n",
       "  <thead>\n",
       "    <tr style=\"text-align: right;\">\n",
       "      <th></th>\n",
       "      <th>Crude1</th>\n",
       "      <th>WTI_Midland</th>\n",
       "      <th>Brent</th>\n",
       "      <th>RBOB</th>\n",
       "      <th>Ethanol</th>\n",
       "      <th>Corn</th>\n",
       "      <th>CAD_Heavy</th>\n",
       "      <th>VIX</th>\n",
       "      <th>ULSD</th>\n",
       "      <th>OPEC_Basket</th>\n",
       "      <th>RBOB_Crack</th>\n",
       "      <th>GC_ULSD_Crack</th>\n",
       "      <th>NY_ULSD_Crack</th>\n",
       "      <th>NG_HB</th>\n",
       "      <th>S_P</th>\n",
       "      <th>VLO</th>\n",
       "      <th>Return</th>\n",
       "      <th>Lagged_Return</th>\n",
       "    </tr>\n",
       "    <tr>\n",
       "      <th>Date</th>\n",
       "      <th></th>\n",
       "      <th></th>\n",
       "      <th></th>\n",
       "      <th></th>\n",
       "      <th></th>\n",
       "      <th></th>\n",
       "      <th></th>\n",
       "      <th></th>\n",
       "      <th></th>\n",
       "      <th></th>\n",
       "      <th></th>\n",
       "      <th></th>\n",
       "      <th></th>\n",
       "      <th></th>\n",
       "      <th></th>\n",
       "      <th></th>\n",
       "      <th></th>\n",
       "      <th></th>\n",
       "    </tr>\n",
       "  </thead>\n",
       "  <tbody>\n",
       "    <tr>\n",
       "      <th>2017-01-09</th>\n",
       "      <td>51.96</td>\n",
       "      <td>-0.22</td>\n",
       "      <td>54.94</td>\n",
       "      <td>1.5707</td>\n",
       "      <td>1.524</td>\n",
       "      <td>360.00</td>\n",
       "      <td>-14.296</td>\n",
       "      <td>12.925</td>\n",
       "      <td>1.6376</td>\n",
       "      <td>52.85</td>\n",
       "      <td>20.94</td>\n",
       "      <td>14.27</td>\n",
       "      <td>16.68</td>\n",
       "      <td>3.103</td>\n",
       "      <td>2265.0</td>\n",
       "      <td>59.734032</td>\n",
       "      <td>-0.435044</td>\n",
       "      <td>-1.507091</td>\n",
       "    </tr>\n",
       "    <tr>\n",
       "      <th>2017-01-10</th>\n",
       "      <td>50.82</td>\n",
       "      <td>-0.17</td>\n",
       "      <td>53.64</td>\n",
       "      <td>1.5467</td>\n",
       "      <td>1.503</td>\n",
       "      <td>358.25</td>\n",
       "      <td>-14.193</td>\n",
       "      <td>12.875</td>\n",
       "      <td>1.6114</td>\n",
       "      <td>51.46</td>\n",
       "      <td>21.15</td>\n",
       "      <td>14.44</td>\n",
       "      <td>16.72</td>\n",
       "      <td>3.278</td>\n",
       "      <td>2263.7</td>\n",
       "      <td>59.878029</td>\n",
       "      <td>0.241064</td>\n",
       "      <td>-0.435044</td>\n",
       "    </tr>\n",
       "    <tr>\n",
       "      <th>2017-01-11</th>\n",
       "      <td>52.25</td>\n",
       "      <td>-0.17</td>\n",
       "      <td>55.10</td>\n",
       "      <td>1.5929</td>\n",
       "      <td>1.492</td>\n",
       "      <td>357.25</td>\n",
       "      <td>-14.232</td>\n",
       "      <td>12.525</td>\n",
       "      <td>1.6524</td>\n",
       "      <td>50.98</td>\n",
       "      <td>21.64</td>\n",
       "      <td>14.67</td>\n",
       "      <td>16.96</td>\n",
       "      <td>3.224</td>\n",
       "      <td>2270.6</td>\n",
       "      <td>60.373043</td>\n",
       "      <td>0.826704</td>\n",
       "      <td>0.241064</td>\n",
       "    </tr>\n",
       "    <tr>\n",
       "      <th>2017-01-12</th>\n",
       "      <td>53.01</td>\n",
       "      <td>-0.22</td>\n",
       "      <td>56.01</td>\n",
       "      <td>1.6108</td>\n",
       "      <td>1.475</td>\n",
       "      <td>358.25</td>\n",
       "      <td>-14.234</td>\n",
       "      <td>12.475</td>\n",
       "      <td>1.6756</td>\n",
       "      <td>52.30</td>\n",
       "      <td>21.59</td>\n",
       "      <td>14.63</td>\n",
       "      <td>17.08</td>\n",
       "      <td>3.386</td>\n",
       "      <td>2263.4</td>\n",
       "      <td>59.869034</td>\n",
       "      <td>-0.834825</td>\n",
       "      <td>0.826704</td>\n",
       "    </tr>\n",
       "    <tr>\n",
       "      <th>2017-01-13</th>\n",
       "      <td>52.37</td>\n",
       "      <td>-0.27</td>\n",
       "      <td>55.45</td>\n",
       "      <td>1.6117</td>\n",
       "      <td>1.476</td>\n",
       "      <td>358.50</td>\n",
       "      <td>-14.203</td>\n",
       "      <td>12.175</td>\n",
       "      <td>1.6514</td>\n",
       "      <td>52.64</td>\n",
       "      <td>22.24</td>\n",
       "      <td>14.42</td>\n",
       "      <td>16.88</td>\n",
       "      <td>3.419</td>\n",
       "      <td>2272.5</td>\n",
       "      <td>59.752033</td>\n",
       "      <td>-0.195428</td>\n",
       "      <td>-0.834825</td>\n",
       "    </tr>\n",
       "  </tbody>\n",
       "</table>\n",
       "</div>"
      ],
      "text/plain": [
       "            Crude1  WTI_Midland  Brent    RBOB  Ethanol    Corn  CAD_Heavy  \\\n",
       "Date                                                                         \n",
       "2017-01-09   51.96        -0.22  54.94  1.5707    1.524  360.00    -14.296   \n",
       "2017-01-10   50.82        -0.17  53.64  1.5467    1.503  358.25    -14.193   \n",
       "2017-01-11   52.25        -0.17  55.10  1.5929    1.492  357.25    -14.232   \n",
       "2017-01-12   53.01        -0.22  56.01  1.6108    1.475  358.25    -14.234   \n",
       "2017-01-13   52.37        -0.27  55.45  1.6117    1.476  358.50    -14.203   \n",
       "\n",
       "               VIX    ULSD  OPEC_Basket  RBOB_Crack  GC_ULSD_Crack  \\\n",
       "Date                                                                 \n",
       "2017-01-09  12.925  1.6376        52.85       20.94          14.27   \n",
       "2017-01-10  12.875  1.6114        51.46       21.15          14.44   \n",
       "2017-01-11  12.525  1.6524        50.98       21.64          14.67   \n",
       "2017-01-12  12.475  1.6756        52.30       21.59          14.63   \n",
       "2017-01-13  12.175  1.6514        52.64       22.24          14.42   \n",
       "\n",
       "            NY_ULSD_Crack  NG_HB     S_P        VLO    Return  Lagged_Return  \n",
       "Date                                                                          \n",
       "2017-01-09          16.68  3.103  2265.0  59.734032 -0.435044      -1.507091  \n",
       "2017-01-10          16.72  3.278  2263.7  59.878029  0.241064      -0.435044  \n",
       "2017-01-11          16.96  3.224  2270.6  60.373043  0.826704       0.241064  \n",
       "2017-01-12          17.08  3.386  2263.4  59.869034 -0.834825       0.826704  \n",
       "2017-01-13          16.88  3.419  2272.5  59.752033 -0.195428      -0.834825  "
      ]
     },
     "execution_count": 4,
     "metadata": {},
     "output_type": "execute_result"
    }
   ],
   "source": [
    "df['Return'] = df['VLO'].pct_change() * 100\n",
    "df['Lagged_Return'] = df.Return.shift()\n",
    "df = df.dropna()\n",
    "df.head()"
   ]
  },
  {
   "cell_type": "code",
   "execution_count": 5,
   "metadata": {},
   "outputs": [
    {
     "data": {
      "text/plain": [
       "<matplotlib.axes._subplots.AxesSubplot at 0x232de089648>"
      ]
     },
     "execution_count": 5,
     "metadata": {},
     "output_type": "execute_result"
    },
    {
     "data": {
      "image/png": "[encoded data removed]",
      "text/plain": [
       "<Figure size 432x288 with 1 Axes>"
      ]
     },
     "metadata": {
      "needs_background": "light"
     },
     "output_type": "display_data"
    }
   ],
   "source": [
    "df['VLO'].plot()"
   ]
  },
  {
   "cell_type": "markdown",
   "metadata": {},
   "source": [
    "# Train Test Split Predictions\n",
    "\n",
    "Training Period: 2017-2018\n",
    "Testing Period: 2019"
   ]
  },
  {
   "cell_type": "code",
   "execution_count": 6,
   "metadata": {},
   "outputs": [],
   "source": [
    "# Create a train/test split for the data using 2001-2018 for training and 2019 for testing\n",
    "train = df['2017':'2018']\n",
    "test = df['2019']"
   ]
  },
  {
   "cell_type": "code",
   "execution_count": 7,
   "metadata": {},
   "outputs": [],
   "source": [
    "# Create train and test sets for dependent and independent variables\n",
    "X_train = train[\"Lagged_Return\"].to_frame()\n",
    "y_train = train[\"Return\"]\n",
    "X_test = test[\"Lagged_Return\"].to_frame()\n",
    "y_test = test[\"Return\"]"
   ]
  },
  {
   "cell_type": "code",
   "execution_count": 8,
   "metadata": {},
   "outputs": [],
   "source": [
    "# Create and fit model to the data, make predictions\n",
    "model = LinearRegression()\n",
    "model.fit(X_train, y_train)\n",
    "predictions = model.predict(X_test)"
   ]
  },
  {
   "cell_type": "code",
   "execution_count": 9,
   "metadata": {},
   "outputs": [],
   "source": [
    "# Construct a dataframe using just the \"y\" training data:\n",
    "out_of_sample_results = y_test.to_frame()\n",
    "\n",
    "# Add a column of \"out-of-sample\" predictions to that dataframe:  \n",
    "out_of_sample_results[\"Out-of-Sample Predictions\"] = model.predict(X_test)"
   ]
  },
  {
   "cell_type": "code",
   "execution_count": 10,
   "metadata": {},
   "outputs": [
    {
     "data": {
      "text/plain": [
       "array([<matplotlib.axes._subplots.AxesSubplot object at 0x00000232DE592C08>,\n",
       "       <matplotlib.axes._subplots.AxesSubplot object at 0x00000232DE5B4D08>],\n",
       "      dtype=object)"
      ]
     },
     "execution_count": 10,
     "metadata": {},
     "output_type": "execute_result"
    },
    {
     "data": {
      "image/png": "[encoded data removed]",
      "text/plain": [
       "<Figure size 432x288 with 2 Axes>"
      ]
     },
     "metadata": {
      "needs_background": "light"
     },
     "output_type": "display_data"
    }
   ],
   "source": [
    "# Plot the out-of-sample results for 2019\n",
    "out_of_sample_results.plot(subplots=True)"
   ]
  },
  {
   "cell_type": "code",
   "execution_count": 11,
   "metadata": {},
   "outputs": [
    {
     "name": "stdout",
     "output_type": "stream",
     "text": [
      "Out-of-sample Root Mean Squared Error (RMSE): 1.8860797265840252\n"
     ]
    }
   ],
   "source": [
    "# Calculate out-of-sample mean_squared_error (for comparison to out-of-sample)\n",
    "out_of_sample_mse = mean_squared_error(\n",
    "    out_of_sample_results[\"Return\"],\n",
    "    out_of_sample_results[\"Out-of-Sample Predictions\"]\n",
    ")\n",
    "\n",
    "# Calculate out-of-sample root mean_squared_error (for comparison to out-of-sample)\n",
    "out_of_sample_rmse = np.sqrt(out_of_sample_mse)\n",
    "print(f\"Out-of-sample Root Mean Squared Error (RMSE): {out_of_sample_rmse}\")"
   ]
  },
  {
   "cell_type": "markdown",
   "metadata": {},
   "source": [
    "---"
   ]
  },
  {
   "cell_type": "markdown",
   "metadata": {},
   "source": [
    "# Rolling Out-of-Sample Predictions"
   ]
  },
  {
   "cell_type": "code",
   "execution_count": 12,
   "metadata": {},
   "outputs": [
    {
     "name": "stdout",
     "output_type": "stream",
     "text": [
      "2017-01-09/2017-01-15\n"
     ]
    }
   ],
   "source": [
    "# Split the index into weekly periods\n",
    "weeks = df.index.to_period(\"w\").unique()\n",
    "print(weeks[0])"
   ]
  },
  {
   "cell_type": "code",
   "execution_count": 13,
   "metadata": {},
   "outputs": [
    {
     "name": "stdout",
     "output_type": "stream",
     "text": [
      "116\n"
     ]
    }
   ],
   "source": [
    "# Declare the training window of 12 weeks\n",
    "# Define the imeframe of rolling windows\n",
    "training_window = 12\n",
    "timeframe = len(weeks) - training_window - 1\n",
    "print(timeframe)"
   ]
  },
  {
   "cell_type": "code",
   "execution_count": 14,
   "metadata": {},
   "outputs": [],
   "source": [
    "# Construct empty placeholder dataframes.\n",
    "# (During each iteration of the loop, we'll append that week\"s predictions to this DataFrame)\n",
    "all_predictions = pd.DataFrame(columns=[\"Out-of-Sample Predictions\"])\n",
    "all_actuals = pd.DataFrame(columns=[\"Actual Returns\"])"
   ]
  },
  {
   "cell_type": "code",
   "execution_count": 15,
   "metadata": {},
   "outputs": [],
   "source": [
    "# During rolling iteration, split into train and test sets.\n",
    "# Use linear regression to make out-of-sample predictions.\n",
    "# Append the results to external dataframes.\n",
    "for i in range(0, timeframe):\n",
    "    \n",
    "    # Beginning of training window\n",
    "    start_of_training_period = weeks[i].start_time.strftime(format=\"%Y-%m-%d\")\n",
    "    \n",
    "    # End of training window\n",
    "    end_of_training_period = weeks[training_window+i].end_time.strftime(format=\"%Y-%m-%d\")\n",
    "\n",
    "    # Window of test-window data\n",
    "    test_week = weeks[training_window + i + 1]\n",
    "    \n",
    "    # String of testing window\n",
    "    start_of_test_week  = test_week.start_time.strftime(format=\"%Y-%m-%d\")\n",
    "    end_of_test_week = test_week.end_time.strftime(format=\"%Y-%m-%d\")\n",
    "    \n",
    "    train = df.loc[start_of_training_period:end_of_training_period]\n",
    "    test = df.loc[start_of_test_week:end_of_test_week]\n",
    "    \n",
    "    # Create new dataframes:\n",
    "    X_train = train[\"Lagged_Return\"].to_frame()\n",
    "    y_train = train[\"Return\"]\n",
    "    X_test = test[\"Lagged_Return\"].to_frame()\n",
    "    y_test = test[\"Return\"]\n",
    "\n",
    "    model = LinearRegression()\n",
    "    model.fit(X_train, y_train)\n",
    "    predictions = model.predict(X_test)\n",
    "    \n",
    "    # Create a temporary dataframe to hold predictions\n",
    "    predictions = pd.DataFrame(predictions, index=X_test.index, columns=[\"Out-of-Sample Predictions\"])\n",
    "    \n",
    "    # Create a temporary DataFrame of the actual \"y\"s in the test dataframe, with column name=\"Actual Returns\": \n",
    "    actuals = pd.DataFrame(y_test, index=y_test.index)\n",
    "    actuals.columns = [\"Actual Returns\"]  \n",
    "    \n",
    "    # Append these two dataframes (predictions and actuals) to the two master DataFrames built outside the loop\n",
    "    all_predictions = all_predictions.append(predictions)\n",
    "    all_actuals = all_actuals.append(actuals)   \n",
    "    "
   ]
  },
  {
   "cell_type": "code",
   "execution_count": 16,
   "metadata": {},
   "outputs": [
    {
     "data": {
      "text/html": [
       "<div>\n",
       "<style scoped>\n",
       "    .dataframe tbody tr th:only-of-type {\n",
       "        vertical-align: middle;\n",
       "    }\n",
       "\n",
       "    .dataframe tbody tr th {\n",
       "        vertical-align: top;\n",
       "    }\n",
       "\n",
       "    .dataframe thead th {\n",
       "        text-align: right;\n",
       "    }\n",
       "</style>\n",
       "<table border=\"1\" class=\"dataframe\">\n",
       "  <thead>\n",
       "    <tr style=\"text-align: right;\">\n",
       "      <th></th>\n",
       "      <th>Actual Returns</th>\n",
       "      <th>Out-of-Sample Predictions</th>\n",
       "    </tr>\n",
       "  </thead>\n",
       "  <tbody>\n",
       "    <tr>\n",
       "      <th>2017-04-10</th>\n",
       "      <td>-0.335516</td>\n",
       "      <td>-0.082651</td>\n",
       "    </tr>\n",
       "    <tr>\n",
       "      <th>2017-04-11</th>\n",
       "      <td>0.428441</td>\n",
       "      <td>0.026471</td>\n",
       "    </tr>\n",
       "    <tr>\n",
       "      <th>2017-04-12</th>\n",
       "      <td>-0.761843</td>\n",
       "      <td>-0.049046</td>\n",
       "    </tr>\n",
       "    <tr>\n",
       "      <th>2017-04-13</th>\n",
       "      <td>-0.690918</td>\n",
       "      <td>0.068614</td>\n",
       "    </tr>\n",
       "    <tr>\n",
       "      <th>2017-04-17</th>\n",
       "      <td>0.788499</td>\n",
       "      <td>0.054198</td>\n",
       "    </tr>\n",
       "  </tbody>\n",
       "</table>\n",
       "</div>"
      ],
      "text/plain": [
       "            Actual Returns  Out-of-Sample Predictions\n",
       "2017-04-10       -0.335516                  -0.082651\n",
       "2017-04-11        0.428441                   0.026471\n",
       "2017-04-12       -0.761843                  -0.049046\n",
       "2017-04-13       -0.690918                   0.068614\n",
       "2017-04-17        0.788499                   0.054198"
      ]
     },
     "execution_count": 16,
     "metadata": {},
     "output_type": "execute_result"
    }
   ],
   "source": [
    "Results = pd.concat([all_actuals, all_predictions], axis=1)\n",
    "Results.head()"
   ]
  },
  {
   "cell_type": "code",
   "execution_count": 17,
   "metadata": {},
   "outputs": [
    {
     "data": {
      "text/html": [
       "<div>\n",
       "<style scoped>\n",
       "    .dataframe tbody tr th:only-of-type {\n",
       "        vertical-align: middle;\n",
       "    }\n",
       "\n",
       "    .dataframe tbody tr th {\n",
       "        vertical-align: top;\n",
       "    }\n",
       "\n",
       "    .dataframe thead th {\n",
       "        text-align: right;\n",
       "    }\n",
       "</style>\n",
       "<table border=\"1\" class=\"dataframe\">\n",
       "  <thead>\n",
       "    <tr style=\"text-align: right;\">\n",
       "      <th></th>\n",
       "      <th>Actual Returns</th>\n",
       "      <th>Out-of-Sample Predictions</th>\n",
       "    </tr>\n",
       "  </thead>\n",
       "  <tbody>\n",
       "    <tr>\n",
       "      <th>2019-01-04</th>\n",
       "      <td>4.804015</td>\n",
       "      <td>-0.724144</td>\n",
       "    </tr>\n",
       "    <tr>\n",
       "      <th>2019-01-07</th>\n",
       "      <td>0.103879</td>\n",
       "      <td>-0.533138</td>\n",
       "    </tr>\n",
       "    <tr>\n",
       "      <th>2019-01-08</th>\n",
       "      <td>0.350245</td>\n",
       "      <td>-0.672256</td>\n",
       "    </tr>\n",
       "    <tr>\n",
       "      <th>2019-01-09</th>\n",
       "      <td>-0.090485</td>\n",
       "      <td>-0.664964</td>\n",
       "    </tr>\n",
       "    <tr>\n",
       "      <th>2019-01-10</th>\n",
       "      <td>0.168197</td>\n",
       "      <td>-0.678009</td>\n",
       "    </tr>\n",
       "    <tr>\n",
       "      <th>...</th>\n",
       "      <td>...</td>\n",
       "      <td>...</td>\n",
       "    </tr>\n",
       "    <tr>\n",
       "      <th>2019-06-24</th>\n",
       "      <td>-1.403981</td>\n",
       "      <td>-0.127463</td>\n",
       "    </tr>\n",
       "    <tr>\n",
       "      <th>2019-06-25</th>\n",
       "      <td>1.077264</td>\n",
       "      <td>0.036722</td>\n",
       "    </tr>\n",
       "    <tr>\n",
       "      <th>2019-06-26</th>\n",
       "      <td>4.042628</td>\n",
       "      <td>-0.062339</td>\n",
       "    </tr>\n",
       "    <tr>\n",
       "      <th>2019-06-27</th>\n",
       "      <td>-1.177435</td>\n",
       "      <td>-0.180729</td>\n",
       "    </tr>\n",
       "    <tr>\n",
       "      <th>2019-06-28</th>\n",
       "      <td>2.001667</td>\n",
       "      <td>0.027677</td>\n",
       "    </tr>\n",
       "  </tbody>\n",
       "</table>\n",
       "<p>121 rows × 2 columns</p>\n",
       "</div>"
      ],
      "text/plain": [
       "            Actual Returns  Out-of-Sample Predictions\n",
       "2019-01-04        4.804015                  -0.724144\n",
       "2019-01-07        0.103879                  -0.533138\n",
       "2019-01-08        0.350245                  -0.672256\n",
       "2019-01-09       -0.090485                  -0.664964\n",
       "2019-01-10        0.168197                  -0.678009\n",
       "...                    ...                        ...\n",
       "2019-06-24       -1.403981                  -0.127463\n",
       "2019-06-25        1.077264                   0.036722\n",
       "2019-06-26        4.042628                  -0.062339\n",
       "2019-06-27       -1.177435                  -0.180729\n",
       "2019-06-28        2.001667                   0.027677\n",
       "\n",
       "[121 rows x 2 columns]"
      ]
     },
     "execution_count": 17,
     "metadata": {},
     "output_type": "execute_result"
    }
   ],
   "source": [
    "# 2019 Data\n",
    "results_2019 = Results.loc['2019':]\n",
    "results_2019"
   ]
  },
  {
   "cell_type": "code",
   "execution_count": 18,
   "metadata": {},
   "outputs": [
    {
     "data": {
      "text/plain": [
       "array([<matplotlib.axes._subplots.AxesSubplot object at 0x00000232DE695AC8>,\n",
       "       <matplotlib.axes._subplots.AxesSubplot object at 0x00000232DE51CE88>],\n",
       "      dtype=object)"
      ]
     },
     "execution_count": 18,
     "metadata": {},
     "output_type": "execute_result"
    },
    {
     "data": {
      "image/png": "[encoded data removed]",
      "text/plain": [
       "<Figure size 432x288 with 2 Axes>"
      ]
     },
     "metadata": {
      "needs_background": "light"
     },
     "output_type": "display_data"
    }
   ],
   "source": [
    "# Plot the results\n",
    "results_2019.plot(subplots=True)"
   ]
  },
  {
   "cell_type": "code",
   "execution_count": 19,
   "metadata": {},
   "outputs": [
    {
     "name": "stdout",
     "output_type": "stream",
     "text": [
      "Rolling Out-of-Sample Root Mean Squared Error (RMSE): 1.9531922799719263\n"
     ]
    }
   ],
   "source": [
    "# Out-of-sample metrics\n",
    "# Calculate the mean_squared_error (MSE) on actual versus predicted test \"y\" \n",
    "# (Hint: use the dataframe above)\n",
    "mse = mean_squared_error(\n",
    "    results_2019[\"Actual Returns\"],\n",
    "    results_2019[\"Out-of-Sample Predictions\"]\n",
    ")\n",
    "\n",
    "# Using that mean-squared-error, calculate the root-mean-squared error (RMSE):\n",
    "rolling_rmse = np.sqrt(mse)\n",
    "print(f\"Rolling Out-of-Sample Root Mean Squared Error (RMSE): {rolling_rmse}\")"
   ]
  },
  {
   "cell_type": "markdown",
   "metadata": {},
   "source": [
    "# Final Model Comparison"
   ]
  },
  {
   "cell_type": "code",
   "execution_count": 20,
   "metadata": {},
   "outputs": [
    {
     "name": "stdout",
     "output_type": "stream",
     "text": [
      "Out-of-sample Root Mean Squared Error (RMSE): 1.8860797265840252\n",
      "Rolling Out-of-Sample Root Mean Squared Error (RMSE): 1.9531922799719263\n"
     ]
    }
   ],
   "source": [
    "print(f\"Out-of-sample Root Mean Squared Error (RMSE): {out_of_sample_rmse}\")\n",
    "print(f\"Rolling Out-of-Sample Root Mean Squared Error (RMSE): {rolling_rmse}\")"
   ]
  },
  {
   "cell_type": "markdown",
   "metadata": {},
   "source": [
    "Comparing the two RMSE's, the RMSE from the single training window is 0.73, whereas it is 0.75 from the rolling-out-of-sample model.\n",
    "\n",
    "* The rolling-out-of sample approach is an approach more akin to real life (you likely re-estimate your model when new data becomes available)\n",
    "* In addition to being more realistic, the rolling-out of sample approach is also more rigorous, as you are testing your model many more times across different time periods\n",
    "* Therefore, we expect a slightly higher out-of-sample RMSE, which is what we see.\n",
    "* The fact that the two are close to each other in value though does suggest that our model is reasonably stable."
   ]
  },
  {
   "cell_type": "code",
   "execution_count": null,
   "metadata": {},
   "outputs": [],
   "source": []
  }
 ],
 "metadata": {
  "kernelspec": {
   "display_name": "Python 3.10.5 64-bit",
   "language": "python",
   "name": "python3"
  },
  "language_info": {
   "codemirror_mode": {
    "name": "ipython",
    "version": 3
   },
   "file_extension": ".py",
   "mimetype": "text/x-python",
   "name": "python",
   "nbconvert_exporter": "python",
   "pygments_lexer": "ipython3",
   "version": "3.10.5"
  },
  "vscode": {
   "interpreter": {
    "hash": "3d4b713e85380f88a00777cdcdc0b317b22afcd9ce36339ad381340bf82814c9"
   }
  }
 },
 "nbformat": 4,
 "nbformat_minor": 4
}
