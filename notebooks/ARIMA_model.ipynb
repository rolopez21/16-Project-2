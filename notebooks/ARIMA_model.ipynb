{
 "cells": [
  {
   "cell_type": "code",
   "execution_count": 55,
   "metadata": {},
   "outputs": [],
   "source": [
    "import pandas as pd\n",
    "%matplotlib inline"
   ]
  },
  {
   "cell_type": "code",
   "execution_count": 73,
   "metadata": {},
   "outputs": [
    {
     "data": {
      "text/html": [
       "<div>\n",
       "<style scoped>\n",
       "    .dataframe tbody tr th:only-of-type {\n",
       "        vertical-align: middle;\n",
       "    }\n",
       "\n",
       "    .dataframe tbody tr th {\n",
       "        vertical-align: top;\n",
       "    }\n",
       "\n",
       "    .dataframe thead th {\n",
       "        text-align: right;\n",
       "    }\n",
       "</style>\n",
       "<table border=\"1\" class=\"dataframe\">\n",
       "  <thead>\n",
       "    <tr style=\"text-align: right;\">\n",
       "      <th></th>\n",
       "      <th>Crude1</th>\n",
       "      <th>WTI_Midland</th>\n",
       "      <th>Brent</th>\n",
       "      <th>RBOB</th>\n",
       "      <th>Ethanol</th>\n",
       "      <th>Corn</th>\n",
       "      <th>CAD_Heavy</th>\n",
       "      <th>VIX</th>\n",
       "      <th>ULSD</th>\n",
       "      <th>OPEC_Basket</th>\n",
       "      <th>RBOB_Crack</th>\n",
       "      <th>GC_ULSD_Crack</th>\n",
       "      <th>NY_ULSD_Crack</th>\n",
       "      <th>NG_HB</th>\n",
       "      <th>S_P</th>\n",
       "      <th>VLO</th>\n",
       "    </tr>\n",
       "    <tr>\n",
       "      <th>Date</th>\n",
       "      <th></th>\n",
       "      <th></th>\n",
       "      <th></th>\n",
       "      <th></th>\n",
       "      <th></th>\n",
       "      <th></th>\n",
       "      <th></th>\n",
       "      <th></th>\n",
       "      <th></th>\n",
       "      <th></th>\n",
       "      <th></th>\n",
       "      <th></th>\n",
       "      <th></th>\n",
       "      <th></th>\n",
       "      <th></th>\n",
       "      <th></th>\n",
       "    </tr>\n",
       "  </thead>\n",
       "  <tbody>\n",
       "    <tr>\n",
       "      <th>2019-06-17</th>\n",
       "      <td>51.93</td>\n",
       "      <td>-0.57</td>\n",
       "      <td>60.94</td>\n",
       "      <td>1.6908</td>\n",
       "      <td>1.603</td>\n",
       "      <td>454.75</td>\n",
       "      <td>-12.876</td>\n",
       "      <td>15.275</td>\n",
       "      <td>1.7995</td>\n",
       "      <td>61.60</td>\n",
       "      <td>19.28</td>\n",
       "      <td>21.38</td>\n",
       "      <td>23.32</td>\n",
       "      <td>2.386</td>\n",
       "      <td>2891.9</td>\n",
       "      <td>76.086365</td>\n",
       "    </tr>\n",
       "    <tr>\n",
       "      <th>2019-06-18</th>\n",
       "      <td>53.90</td>\n",
       "      <td>-0.49</td>\n",
       "      <td>62.14</td>\n",
       "      <td>1.7214</td>\n",
       "      <td>1.600</td>\n",
       "      <td>449.75</td>\n",
       "      <td>-12.876</td>\n",
       "      <td>15.075</td>\n",
       "      <td>1.8278</td>\n",
       "      <td>61.43</td>\n",
       "      <td>18.98</td>\n",
       "      <td>21.01</td>\n",
       "      <td>22.97</td>\n",
       "      <td>2.328</td>\n",
       "      <td>2921.7</td>\n",
       "      <td>76.946831</td>\n",
       "    </tr>\n",
       "    <tr>\n",
       "      <th>2019-06-19</th>\n",
       "      <td>53.76</td>\n",
       "      <td>-0.52</td>\n",
       "      <td>61.82</td>\n",
       "      <td>1.7355</td>\n",
       "      <td>1.563</td>\n",
       "      <td>441.00</td>\n",
       "      <td>-13.750</td>\n",
       "      <td>15.875</td>\n",
       "      <td>1.8294</td>\n",
       "      <td>62.21</td>\n",
       "      <td>19.27</td>\n",
       "      <td>21.12</td>\n",
       "      <td>23.06</td>\n",
       "      <td>2.276</td>\n",
       "      <td>2929.1</td>\n",
       "      <td>77.302879</td>\n",
       "    </tr>\n",
       "    <tr>\n",
       "      <th>2019-06-20</th>\n",
       "      <td>56.65</td>\n",
       "      <td>-0.54</td>\n",
       "      <td>64.45</td>\n",
       "      <td>1.7863</td>\n",
       "      <td>1.592</td>\n",
       "      <td>450.00</td>\n",
       "      <td>-13.650</td>\n",
       "      <td>16.125</td>\n",
       "      <td>1.8843</td>\n",
       "      <td>63.95</td>\n",
       "      <td>18.94</td>\n",
       "      <td>20.83</td>\n",
       "      <td>22.79</td>\n",
       "      <td>2.185</td>\n",
       "      <td>2955.7</td>\n",
       "      <td>78.875443</td>\n",
       "    </tr>\n",
       "    <tr>\n",
       "      <th>2019-06-21</th>\n",
       "      <td>57.43</td>\n",
       "      <td>-0.53</td>\n",
       "      <td>65.20</td>\n",
       "      <td>1.8561</td>\n",
       "      <td>1.575</td>\n",
       "      <td>442.25</td>\n",
       "      <td>-13.650</td>\n",
       "      <td>16.525</td>\n",
       "      <td>1.9158</td>\n",
       "      <td>65.29</td>\n",
       "      <td>19.72</td>\n",
       "      <td>21.09</td>\n",
       "      <td>23.08</td>\n",
       "      <td>2.186</td>\n",
       "      <td>2950.6</td>\n",
       "      <td>81.011757</td>\n",
       "    </tr>\n",
       "  </tbody>\n",
       "</table>\n",
       "</div>"
      ],
      "text/plain": [
       "            Crude1  WTI_Midland  Brent    RBOB  Ethanol    Corn  CAD_Heavy  \\\n",
       "Date                                                                         \n",
       "2019-06-17   51.93        -0.57  60.94  1.6908    1.603  454.75    -12.876   \n",
       "2019-06-18   53.90        -0.49  62.14  1.7214    1.600  449.75    -12.876   \n",
       "2019-06-19   53.76        -0.52  61.82  1.7355    1.563  441.00    -13.750   \n",
       "2019-06-20   56.65        -0.54  64.45  1.7863    1.592  450.00    -13.650   \n",
       "2019-06-21   57.43        -0.53  65.20  1.8561    1.575  442.25    -13.650   \n",
       "\n",
       "               VIX    ULSD  OPEC_Basket  RBOB_Crack  GC_ULSD_Crack  \\\n",
       "Date                                                                 \n",
       "2019-06-17  15.275  1.7995        61.60       19.28          21.38   \n",
       "2019-06-18  15.075  1.8278        61.43       18.98          21.01   \n",
       "2019-06-19  15.875  1.8294        62.21       19.27          21.12   \n",
       "2019-06-20  16.125  1.8843        63.95       18.94          20.83   \n",
       "2019-06-21  16.525  1.9158        65.29       19.72          21.09   \n",
       "\n",
       "            NY_ULSD_Crack  NG_HB     S_P        VLO  \n",
       "Date                                                 \n",
       "2019-06-17          23.32  2.386  2891.9  76.086365  \n",
       "2019-06-18          22.97  2.328  2921.7  76.946831  \n",
       "2019-06-19          23.06  2.276  2929.1  77.302879  \n",
       "2019-06-20          22.79  2.185  2955.7  78.875443  \n",
       "2019-06-21          23.08  2.186  2950.6  81.011757  "
      ]
     },
     "execution_count": 73,
     "metadata": {},
     "output_type": "execute_result"
    }
   ],
   "source": [
    "from pathlib import Path\n",
    "csvpath = Path('../data/cleandata/Data.csv')\n",
    "df1 = pd.read_csv(csvpath, parse_dates=True, index_col='Date')\n",
    "df = df1[:-5]\n",
    "df.tail()"
   ]
  },
  {
   "cell_type": "code",
   "execution_count": 57,
   "metadata": {},
   "outputs": [
    {
     "data": {
      "text/plain": [
       "<matplotlib.axes._subplots.AxesSubplot at 0x27d13e50e48>"
      ]
     },
     "execution_count": 57,
     "metadata": {},
     "output_type": "execute_result"
    },
    {
     "data": {
      "image/png": "[encoded data removed]",
      "text/plain": [
       "<Figure size 720x360 with 1 Axes>"
      ]
     },
     "metadata": {
      "needs_background": "light"
     },
     "output_type": "display_data"
    }
   ],
   "source": [
    "df.VLO.plot(figsize=(10,5))"
   ]
  },
  {
   "cell_type": "code",
   "execution_count": 58,
   "metadata": {},
   "outputs": [
    {
     "data": {
      "text/plain": [
       "<matplotlib.axes._subplots.AxesSubplot at 0x27d13ea1908>"
      ]
     },
     "execution_count": 58,
     "metadata": {},
     "output_type": "execute_result"
    },
    {
     "data": {
      "image/png": "[encoded data removed]",
      "text/plain": [
       "<Figure size 432x288 with 1 Axes>"
      ]
     },
     "metadata": {
      "needs_background": "light"
     },
     "output_type": "display_data"
    }
   ],
   "source": [
    "# Differencing the Settle price stationarizes the time series\n",
    "df.VLO.diff().plot()"
   ]
  },
  {
   "cell_type": "markdown",
   "metadata": {},
   "source": [
    "# Autocorrelation and Partial Autocorrelation Analysis"
   ]
  },
  {
   "cell_type": "code",
   "execution_count": 59,
   "metadata": {},
   "outputs": [],
   "source": [
    "from statsmodels.graphics.tsaplots import plot_acf, plot_pacf"
   ]
  },
  {
   "cell_type": "code",
   "execution_count": 60,
   "metadata": {},
   "outputs": [
    {
     "data": {
      "image/png": "[encoded data removed]",
      "text/plain": [
       "<Figure size 432x288 with 1 Axes>"
      ]
     },
     "execution_count": 60,
     "metadata": {},
     "output_type": "execute_result"
    },
    {
     "data": {
      "image/png": "[encoded data removed]",
      "text/plain": [
       "<Figure size 432x288 with 1 Axes>"
      ]
     },
     "metadata": {
      "needs_background": "light"
     },
     "output_type": "display_data"
    }
   ],
   "source": [
    "# Plot the autocorrelation of the Settle Prices\n",
    "plot_acf(df.VLO, zero=False, lags=2)"
   ]
  },
  {
   "cell_type": "code",
   "execution_count": 61,
   "metadata": {},
   "outputs": [
    {
     "data": {
      "image/png": "[encoded data removed]",
      "text/plain": [
       "<Figure size 432x288 with 1 Axes>"
      ]
     },
     "execution_count": 61,
     "metadata": {},
     "output_type": "execute_result"
    },
    {
     "data": {
      "image/png": "[encoded data removed]",
      "text/plain": [
       "<Figure size 432x288 with 1 Axes>"
      ]
     },
     "metadata": {
      "needs_background": "light"
     },
     "output_type": "display_data"
    }
   ],
   "source": [
    "# Plot the partial autocorrelation of the returns\n",
    "plot_pacf(df.VLO, zero=False, lags=2)"
   ]
  },
  {
   "cell_type": "markdown",
   "metadata": {},
   "source": [
    "# ARIMA Model"
   ]
  },
  {
   "cell_type": "code",
   "execution_count": 62,
   "metadata": {},
   "outputs": [],
   "source": [
    "from statsmodels.tsa.arima_model import ARIMA"
   ]
  },
  {
   "cell_type": "code",
   "execution_count": 63,
   "metadata": {},
   "outputs": [],
   "source": [
    "# Create an ARIMA model\n",
    "model = ARIMA(df.VLO.values, order=(2, 1, 1))"
   ]
  },
  {
   "cell_type": "code",
   "execution_count": 64,
   "metadata": {},
   "outputs": [],
   "source": [
    "# Fit the model to the data\n",
    "results = model.fit()"
   ]
  },
  {
   "cell_type": "code",
   "execution_count": 65,
   "metadata": {},
   "outputs": [
    {
     "data": {
      "text/html": [
       "<table class=\"simpletable\">\n",
       "<caption>ARIMA Model Results</caption>\n",
       "<tr>\n",
       "  <th>Dep. Variable:</th>        <td>D.y</td>       <th>  No. Observations:  </th>    <td>599</td>   \n",
       "</tr>\n",
       "<tr>\n",
       "  <th>Model:</th>          <td>ARIMA(2, 1, 1)</td>  <th>  Log Likelihood     </th> <td>-1037.720</td>\n",
       "</tr>\n",
       "<tr>\n",
       "  <th>Method:</th>             <td>css-mle</td>     <th>  S.D. of innovations</th>   <td>1.368</td>  \n",
       "</tr>\n",
       "<tr>\n",
       "  <th>Date:</th>          <td>Thu, 14 Nov 2019</td> <th>  AIC                </th> <td>2085.439</td> \n",
       "</tr>\n",
       "<tr>\n",
       "  <th>Time:</th>              <td>19:48:39</td>     <th>  BIC                </th> <td>2107.416</td> \n",
       "</tr>\n",
       "<tr>\n",
       "  <th>Sample:</th>                <td>1</td>        <th>  HQIC               </th> <td>2093.995</td> \n",
       "</tr>\n",
       "<tr>\n",
       "  <th></th>                       <td> </td>        <th>                     </th>     <td> </td>    \n",
       "</tr>\n",
       "</table>\n",
       "<table class=\"simpletable\">\n",
       "<tr>\n",
       "      <td></td>         <th>coef</th>     <th>std err</th>      <th>z</th>      <th>P>|z|</th>  <th>[0.025</th>    <th>0.975]</th>  \n",
       "</tr>\n",
       "<tr>\n",
       "  <th>const</th>     <td>    0.0353</td> <td>    0.075</td> <td>    0.474</td> <td> 0.636</td> <td>   -0.111</td> <td>    0.182</td>\n",
       "</tr>\n",
       "<tr>\n",
       "  <th>ar.L1.D.y</th> <td>    0.6800</td> <td>    0.181</td> <td>    3.751</td> <td> 0.000</td> <td>    0.325</td> <td>    1.035</td>\n",
       "</tr>\n",
       "<tr>\n",
       "  <th>ar.L2.D.y</th> <td>    0.0760</td> <td>    0.046</td> <td>    1.644</td> <td> 0.101</td> <td>   -0.015</td> <td>    0.167</td>\n",
       "</tr>\n",
       "<tr>\n",
       "  <th>ma.L1.D.y</th> <td>   -0.6736</td> <td>    0.179</td> <td>   -3.767</td> <td> 0.000</td> <td>   -1.024</td> <td>   -0.323</td>\n",
       "</tr>\n",
       "</table>\n",
       "<table class=\"simpletable\">\n",
       "<caption>Roots</caption>\n",
       "<tr>\n",
       "    <td></td>   <th>            Real</th>  <th>         Imaginary</th> <th>         Modulus</th>  <th>        Frequency</th>\n",
       "</tr>\n",
       "<tr>\n",
       "  <th>AR.1</th> <td>           1.2859</td> <td>          +0.0000j</td> <td>           1.2859</td> <td>           0.0000</td>\n",
       "</tr>\n",
       "<tr>\n",
       "  <th>AR.2</th> <td>         -10.2367</td> <td>          +0.0000j</td> <td>          10.2367</td> <td>           0.5000</td>\n",
       "</tr>\n",
       "<tr>\n",
       "  <th>MA.1</th> <td>           1.4846</td> <td>          +0.0000j</td> <td>           1.4846</td> <td>           0.0000</td>\n",
       "</tr>\n",
       "</table>"
      ],
      "text/plain": [
       "<class 'statsmodels.iolib.summary.Summary'>\n",
       "\"\"\"\n",
       "                             ARIMA Model Results                              \n",
       "==============================================================================\n",
       "Dep. Variable:                    D.y   No. Observations:                  599\n",
       "Model:                 ARIMA(2, 1, 1)   Log Likelihood               -1037.720\n",
       "Method:                       css-mle   S.D. of innovations              1.368\n",
       "Date:                Thu, 14 Nov 2019   AIC                           2085.439\n",
       "Time:                        19:48:39   BIC                           2107.416\n",
       "Sample:                             1   HQIC                          2093.995\n",
       "                                                                              \n",
       "==============================================================================\n",
       "                 coef    std err          z      P>|z|      [0.025      0.975]\n",
       "------------------------------------------------------------------------------\n",
       "const          0.0353      0.075      0.474      0.636      -0.111       0.182\n",
       "ar.L1.D.y      0.6800      0.181      3.751      0.000       0.325       1.035\n",
       "ar.L2.D.y      0.0760      0.046      1.644      0.101      -0.015       0.167\n",
       "ma.L1.D.y     -0.6736      0.179     -3.767      0.000      -1.024      -0.323\n",
       "                                    Roots                                    \n",
       "=============================================================================\n",
       "                  Real          Imaginary           Modulus         Frequency\n",
       "-----------------------------------------------------------------------------\n",
       "AR.1            1.2859           +0.0000j            1.2859            0.0000\n",
       "AR.2          -10.2367           +0.0000j           10.2367            0.5000\n",
       "MA.1            1.4846           +0.0000j            1.4846            0.0000\n",
       "-----------------------------------------------------------------------------\n",
       "\"\"\""
      ]
     },
     "execution_count": 65,
     "metadata": {},
     "output_type": "execute_result"
    }
   ],
   "source": [
    "# Print the model summary\n",
    "results.summary()"
   ]
  },
  {
   "cell_type": "code",
   "execution_count": 71,
   "metadata": {},
   "outputs": [
    {
     "data": {
      "text/plain": [
       "<matplotlib.axes._subplots.AxesSubplot at 0x27d141dcf48>"
      ]
     },
     "execution_count": 71,
     "metadata": {},
     "output_type": "execute_result"
    },
    {
     "data": {
      "image/png": "[encoded data removed]",
      "text/plain": [
       "<Figure size 432x288 with 1 Axes>"
      ]
     },
     "metadata": {
      "needs_background": "light"
     },
     "output_type": "display_data"
    }
   ],
   "source": [
    "# Plot the Futures Price Forecast\n",
    "pd.DataFrame(results.forecast(steps=7)[0]).plot(title=\"Futures Forecast\")"
   ]
  },
  {
   "cell_type": "code",
   "execution_count": 67,
   "metadata": {},
   "outputs": [
    {
     "data": {
      "text/html": [
       "<div>\n",
       "<style scoped>\n",
       "    .dataframe tbody tr th:only-of-type {\n",
       "        vertical-align: middle;\n",
       "    }\n",
       "\n",
       "    .dataframe tbody tr th {\n",
       "        vertical-align: top;\n",
       "    }\n",
       "\n",
       "    .dataframe thead th {\n",
       "        text-align: right;\n",
       "    }\n",
       "</style>\n",
       "<table border=\"1\" class=\"dataframe\">\n",
       "  <thead>\n",
       "    <tr style=\"text-align: right;\">\n",
       "      <th></th>\n",
       "      <th>Crude1</th>\n",
       "      <th>WTI_Midland</th>\n",
       "      <th>Brent</th>\n",
       "      <th>RBOB</th>\n",
       "      <th>Ethanol</th>\n",
       "      <th>Corn</th>\n",
       "      <th>CAD_Heavy</th>\n",
       "      <th>VIX</th>\n",
       "      <th>ULSD</th>\n",
       "      <th>OPEC_Basket</th>\n",
       "      <th>RBOB_Crack</th>\n",
       "      <th>GC_ULSD_Crack</th>\n",
       "      <th>NY_ULSD_Crack</th>\n",
       "      <th>NG_HB</th>\n",
       "      <th>S_P</th>\n",
       "      <th>VLO</th>\n",
       "    </tr>\n",
       "    <tr>\n",
       "      <th>Date</th>\n",
       "      <th></th>\n",
       "      <th></th>\n",
       "      <th></th>\n",
       "      <th></th>\n",
       "      <th></th>\n",
       "      <th></th>\n",
       "      <th></th>\n",
       "      <th></th>\n",
       "      <th></th>\n",
       "      <th></th>\n",
       "      <th></th>\n",
       "      <th></th>\n",
       "      <th></th>\n",
       "      <th></th>\n",
       "      <th></th>\n",
       "      <th></th>\n",
       "    </tr>\n",
       "  </thead>\n",
       "  <tbody>\n",
       "    <tr>\n",
       "      <th>2019-06-24</th>\n",
       "      <td>57.90</td>\n",
       "      <td>-0.53</td>\n",
       "      <td>64.86</td>\n",
       "      <td>1.8549</td>\n",
       "      <td>1.575</td>\n",
       "      <td>446.75</td>\n",
       "      <td>-13.20</td>\n",
       "      <td>16.275</td>\n",
       "      <td>1.9089</td>\n",
       "      <td>65.05</td>\n",
       "      <td>19.59</td>\n",
       "      <td>20.94</td>\n",
       "      <td>22.89</td>\n",
       "      <td>2.303</td>\n",
       "      <td>2952.1</td>\n",
       "      <td>79.874367</td>\n",
       "    </tr>\n",
       "    <tr>\n",
       "      <th>2019-06-25</th>\n",
       "      <td>57.83</td>\n",
       "      <td>-0.55</td>\n",
       "      <td>65.05</td>\n",
       "      <td>1.8772</td>\n",
       "      <td>1.580</td>\n",
       "      <td>447.50</td>\n",
       "      <td>-12.95</td>\n",
       "      <td>16.675</td>\n",
       "      <td>1.9234</td>\n",
       "      <td>64.79</td>\n",
       "      <td>19.79</td>\n",
       "      <td>21.11</td>\n",
       "      <td>23.02</td>\n",
       "      <td>2.308</td>\n",
       "      <td>2922.1</td>\n",
       "      <td>80.734825</td>\n",
       "    </tr>\n",
       "    <tr>\n",
       "      <th>2019-06-26</th>\n",
       "      <td>59.38</td>\n",
       "      <td>-0.63</td>\n",
       "      <td>66.49</td>\n",
       "      <td>1.9704</td>\n",
       "      <td>1.567</td>\n",
       "      <td>443.25</td>\n",
       "      <td>-13.00</td>\n",
       "      <td>16.525</td>\n",
       "      <td>1.9713</td>\n",
       "      <td>65.60</td>\n",
       "      <td>20.14</td>\n",
       "      <td>21.17</td>\n",
       "      <td>23.09</td>\n",
       "      <td>2.291</td>\n",
       "      <td>2917.9</td>\n",
       "      <td>83.998634</td>\n",
       "    </tr>\n",
       "    <tr>\n",
       "      <th>2019-06-27</th>\n",
       "      <td>59.43</td>\n",
       "      <td>-0.60</td>\n",
       "      <td>66.55</td>\n",
       "      <td>1.9466</td>\n",
       "      <td>1.561</td>\n",
       "      <td>440.00</td>\n",
       "      <td>-13.00</td>\n",
       "      <td>16.075</td>\n",
       "      <td>1.9525</td>\n",
       "      <td>65.61</td>\n",
       "      <td>20.04</td>\n",
       "      <td>21.10</td>\n",
       "      <td>23.01</td>\n",
       "      <td>2.324</td>\n",
       "      <td>2930.9</td>\n",
       "      <td>83.009605</td>\n",
       "    </tr>\n",
       "    <tr>\n",
       "      <th>2019-06-28</th>\n",
       "      <td>58.47</td>\n",
       "      <td>-0.57</td>\n",
       "      <td>64.74</td>\n",
       "      <td>1.9425</td>\n",
       "      <td>1.505</td>\n",
       "      <td>420.25</td>\n",
       "      <td>-13.30</td>\n",
       "      <td>15.525</td>\n",
       "      <td>1.9446</td>\n",
       "      <td>65.60</td>\n",
       "      <td>20.08</td>\n",
       "      <td>21.14</td>\n",
       "      <td>23.04</td>\n",
       "      <td>2.308</td>\n",
       "      <td>2944.2</td>\n",
       "      <td>84.671181</td>\n",
       "    </tr>\n",
       "  </tbody>\n",
       "</table>\n",
       "</div>"
      ],
      "text/plain": [
       "            Crude1  WTI_Midland  Brent    RBOB  Ethanol    Corn  CAD_Heavy  \\\n",
       "Date                                                                         \n",
       "2019-06-24   57.90        -0.53  64.86  1.8549    1.575  446.75     -13.20   \n",
       "2019-06-25   57.83        -0.55  65.05  1.8772    1.580  447.50     -12.95   \n",
       "2019-06-26   59.38        -0.63  66.49  1.9704    1.567  443.25     -13.00   \n",
       "2019-06-27   59.43        -0.60  66.55  1.9466    1.561  440.00     -13.00   \n",
       "2019-06-28   58.47        -0.57  64.74  1.9425    1.505  420.25     -13.30   \n",
       "\n",
       "               VIX    ULSD  OPEC_Basket  RBOB_Crack  GC_ULSD_Crack  \\\n",
       "Date                                                                 \n",
       "2019-06-24  16.275  1.9089        65.05       19.59          20.94   \n",
       "2019-06-25  16.675  1.9234        64.79       19.79          21.11   \n",
       "2019-06-26  16.525  1.9713        65.60       20.14          21.17   \n",
       "2019-06-27  16.075  1.9525        65.61       20.04          21.10   \n",
       "2019-06-28  15.525  1.9446        65.60       20.08          21.14   \n",
       "\n",
       "            NY_ULSD_Crack  NG_HB     S_P        VLO  \n",
       "Date                                                 \n",
       "2019-06-24          22.89  2.303  2952.1  79.874367  \n",
       "2019-06-25          23.02  2.308  2922.1  80.734825  \n",
       "2019-06-26          23.09  2.291  2917.9  83.998634  \n",
       "2019-06-27          23.01  2.324  2930.9  83.009605  \n",
       "2019-06-28          23.04  2.308  2944.2  84.671181  "
      ]
     },
     "execution_count": 67,
     "metadata": {},
     "output_type": "execute_result"
    }
   ],
   "source": [
    "df1.tail()"
   ]
  },
  {
   "cell_type": "code",
   "execution_count": null,
   "metadata": {},
   "outputs": [],
   "source": []
  }
 ],
 "metadata": {
  "kernelspec": {
   "display_name": "Python 3",
   "language": "python",
   "name": "python3"
  },
  "language_info": {
   "codemirror_mode": {
    "name": "ipython",
    "version": 3
   },
   "file_extension": ".py",
   "mimetype": "text/x-python",
   "name": "python",
   "nbconvert_exporter": "python",
   "pygments_lexer": "ipython3",
   "version": "3.7.5"
  }
 },
 "nbformat": 4,
 "nbformat_minor": 4
}
