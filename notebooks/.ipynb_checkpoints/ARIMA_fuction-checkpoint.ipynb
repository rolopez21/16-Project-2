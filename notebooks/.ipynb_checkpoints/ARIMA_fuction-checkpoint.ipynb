{
 "cells": [
  {
   "cell_type": "code",
   "execution_count": 1,
   "metadata": {},
   "outputs": [],
   "source": [
    "import pandas as pd\n",
    "from statsmodels.tsa.arima_model import ARIMA\n",
    "%matplotlib inline"
   ]
  },
  {
   "cell_type": "code",
   "execution_count": 3,
   "metadata": {},
   "outputs": [],
   "source": [
    "from pathlib import Path\n",
    "csvpath = Path('../data/cleandata/Data.csv')\n",
    "df1 = pd.read_csv(csvpath, parse_dates=True,index_col='Date')"
   ]
  },
  {
   "cell_type": "code",
   "execution_count": 6,
   "metadata": {},
   "outputs": [],
   "source": [
    "def arima_fuc (df):\n",
    "    model = ARIMA(df.VLO.values, order=(2, 1, 1))   \n",
    "    results = model.fit()\n",
    "    forecast = pd.DataFrame(results.forecast(steps=5)[0])\n",
    "    return results.summary(), forecast.plot(title=\"Futures Forecast\")"
   ]
  },
  {
   "cell_type": "code",
   "execution_count": 7,
   "metadata": {},
   "outputs": [
    {
     "data": {
      "text/plain": [
       "(<class 'statsmodels.iolib.summary.Summary'>\n",
       " \"\"\"\n",
       "                              ARIMA Model Results                              \n",
       " ==============================================================================\n",
       " Dep. Variable:                    D.y   No. Observations:                  604\n",
       " Model:                 ARIMA(2, 1, 1)   Log Likelihood               -1047.850\n",
       " Method:                       css-mle   S.D. of innovations              1.371\n",
       " Date:                Sun, 17 Nov 2019   AIC                           2105.701\n",
       " Time:                        00:56:33   BIC                           2127.719\n",
       " Sample:                             1   HQIC                          2114.269\n",
       "                                                                               \n",
       " ==============================================================================\n",
       "                  coef    std err          z      P>|z|      [0.025      0.975]\n",
       " ------------------------------------------------------------------------------\n",
       " const          0.0408      0.075      0.541      0.589      -0.107       0.188\n",
       " ar.L1.D.y      0.6872      0.172      4.005      0.000       0.351       1.023\n",
       " ar.L2.D.y      0.0812      0.046      1.780      0.076      -0.008       0.171\n",
       " ma.L1.D.y     -0.6866      0.169     -4.064      0.000      -1.018      -0.355\n",
       "                                     Roots                                    \n",
       " =============================================================================\n",
       "                   Real          Imaginary           Modulus         Frequency\n",
       " -----------------------------------------------------------------------------\n",
       " AR.1            1.2660           +0.0000j            1.2660            0.0000\n",
       " AR.2           -9.7326           +0.0000j            9.7326            0.5000\n",
       " MA.1            1.4564           +0.0000j            1.4564            0.0000\n",
       " -----------------------------------------------------------------------------\n",
       " \"\"\", <matplotlib.axes._subplots.AxesSubplot at 0x26262a702c8>)"
      ]
     },
     "execution_count": 7,
     "metadata": {},
     "output_type": "execute_result"
    },
    {
     "data": {
      "image/png": "[encoded data removed]",
      "text/plain": [
       "<Figure size 432x288 with 1 Axes>"
      ]
     },
     "metadata": {
      "needs_background": "light"
     },
     "output_type": "display_data"
    }
   ],
   "source": [
    "arima_fuc(df1)"
   ]
  }
 ],
 "metadata": {
  "kernelspec": {
   "display_name": "Python 3",
   "language": "python",
   "name": "python3"
  },
  "language_info": {
   "codemirror_mode": {
    "name": "ipython",
    "version": 3
   },
   "file_extension": ".py",
   "mimetype": "text/x-python",
   "name": "python",
   "nbconvert_exporter": "python",
   "pygments_lexer": "ipython3",
   "version": "3.7.5"
  }
 },
 "nbformat": 4,
 "nbformat_minor": 4
}
