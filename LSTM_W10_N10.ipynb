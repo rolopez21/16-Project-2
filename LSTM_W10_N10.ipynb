{
 "cells": [
  {
   "cell_type": "code",
   "execution_count": 1,
   "metadata": {},
   "outputs": [],
   "source": [
    "# Data Preparation"
   ]
  },
  {
   "cell_type": "code",
   "execution_count": 24,
   "metadata": {},
   "outputs": [],
   "source": [
    "import numpy as np\n",
    "import pandas as pd\n",
    "import hvplot.pandas\n",
    "\n",
    "%matplotlib inline"
   ]
  },
  {
   "cell_type": "code",
   "execution_count": 3,
   "metadata": {},
   "outputs": [],
   "source": [
    "# Set the random seed for reproducibility\n",
    "# Note: This is for the homework solution, but it is good practice to comment this out and run multiple experiments to evaluate your model\n",
    "from numpy.random import seed\n",
    "seed(1)\n",
    "from tensorflow import random\n",
    "random.set_seed(2)"
   ]
  },
  {
   "cell_type": "code",
   "execution_count": 4,
   "metadata": {},
   "outputs": [
    {
     "data": {
      "text/html": [
       "<div>\n",
       "<style scoped>\n",
       "    .dataframe tbody tr th:only-of-type {\n",
       "        vertical-align: middle;\n",
       "    }\n",
       "\n",
       "    .dataframe tbody tr th {\n",
       "        vertical-align: top;\n",
       "    }\n",
       "\n",
       "    .dataframe thead th {\n",
       "        text-align: right;\n",
       "    }\n",
       "</style>\n",
       "<table border=\"1\" class=\"dataframe\">\n",
       "  <thead>\n",
       "    <tr style=\"text-align: right;\">\n",
       "      <th></th>\n",
       "      <th>Close</th>\n",
       "    </tr>\n",
       "    <tr>\n",
       "      <th>Date</th>\n",
       "      <th></th>\n",
       "    </tr>\n",
       "  </thead>\n",
       "  <tbody>\n",
       "    <tr>\n",
       "      <th>2017-01-03</th>\n",
       "      <td>70.419998</td>\n",
       "    </tr>\n",
       "    <tr>\n",
       "      <th>2017-01-04</th>\n",
       "      <td>67.889999</td>\n",
       "    </tr>\n",
       "    <tr>\n",
       "      <th>2017-01-05</th>\n",
       "      <td>67.680000</td>\n",
       "    </tr>\n",
       "    <tr>\n",
       "      <th>2017-01-06</th>\n",
       "      <td>66.660004</td>\n",
       "    </tr>\n",
       "    <tr>\n",
       "      <th>2017-01-09</th>\n",
       "      <td>66.370003</td>\n",
       "    </tr>\n",
       "  </tbody>\n",
       "</table>\n",
       "</div>"
      ],
      "text/plain": [
       "                Close\n",
       "Date                 \n",
       "2017-01-03  70.419998\n",
       "2017-01-04  67.889999\n",
       "2017-01-05  67.680000\n",
       "2017-01-06  66.660004\n",
       "2017-01-09  66.370003"
      ]
     },
     "execution_count": 4,
     "metadata": {},
     "output_type": "execute_result"
    }
   ],
   "source": [
    "# Load the Valero daily data\n",
    "df = pd.read_csv('16-Project-2/data/cleandata/VLO_Daily.csv', index_col=\"Date\", infer_datetime_format=True, parse_dates=True)\n",
    "df = df.drop(columns=[\"Open\", \"High\", \"Low\", \"Adj Close\", \"Volume\"])\n",
    "df.head()"
   ]
  },
  {
   "cell_type": "code",
   "execution_count": 5,
   "metadata": {},
   "outputs": [],
   "source": [
    "# This function accepts the column number for the features (X) and the target (y)\n",
    "# It chunks the data up with a rolling window of Xt-n to predict Xt\n",
    "# It returns a numpy array of X any y\n",
    "def window_data(df, window, feature_col_number, target_col_number):\n",
    "    X = []\n",
    "    y = []\n",
    "    for i in range(len(df) - window - 1):\n",
    "        features = df.iloc[i:(i + window), feature_col_number]\n",
    "        target = df.iloc[(i + window), target_col_number]\n",
    "        X.append(features)\n",
    "        y.append(target)\n",
    "    return np.array(X), np.array(y).reshape(-1, 1)"
   ]
  },
  {
   "cell_type": "code",
   "execution_count": 6,
   "metadata": {},
   "outputs": [],
   "source": [
    "# Predict Closing Prices using a 10 day window of previous closing prices\n",
    "# Try a window size anywhere from 1 to 10 and see how the model performance changes\n",
    "window_size = 10\n",
    "\n",
    "# Column index 1 is the `Close` column\n",
    "feature_column = 0\n",
    "target_column = 0\n",
    "X, y = window_data(df, window_size, feature_column, target_column)"
   ]
  },
  {
   "cell_type": "code",
   "execution_count": 7,
   "metadata": {},
   "outputs": [],
   "source": [
    "# Use 70% of the data for training and the remainder for testing\n",
    "split = int(0.7 * len(X))\n",
    "X_train = X[: split - 1]\n",
    "X_test = X[split:]\n",
    "y_train = y[: split - 1]\n",
    "y_test = y[split:]"
   ]
  },
  {
   "cell_type": "code",
   "execution_count": 8,
   "metadata": {},
   "outputs": [],
   "source": [
    "# Use MinMaxScaler to scale the data between 0 and 1. \n",
    "from sklearn.preprocessing import MinMaxScaler\n",
    "\n",
    "scaler = MinMaxScaler()\n",
    "scaler.fit(X)\n",
    "X_train = scaler.transform(X_train)\n",
    "X_test = scaler.transform(X_test)\n",
    "scaler.fit(y)\n",
    "y_train = scaler.transform(y_train)\n",
    "y_test = scaler.transform(y_test)"
   ]
  },
  {
   "cell_type": "code",
   "execution_count": 9,
   "metadata": {},
   "outputs": [
    {
     "name": "stdout",
     "output_type": "stream",
     "text": [
      "X_train sample values:\n",
      "[[[0.14213112]\n",
      "  [0.10195328]\n",
      "  [0.09861837]\n",
      "  [0.08242025]\n",
      "  [0.07781486]\n",
      "  [0.08035569]\n",
      "  [0.08909006]\n",
      "  [0.08019685]\n",
      "  [0.07813241]\n",
      "  [0.07495634]]\n",
      "\n",
      " [[0.10195328]\n",
      "  [0.09861837]\n",
      "  [0.08242025]\n",
      "  [0.07781486]\n",
      "  [0.08035569]\n",
      "  [0.08909006]\n",
      "  [0.08019685]\n",
      "  [0.07813241]\n",
      "  [0.07495634]\n",
      "  [0.08384943]]\n",
      "\n",
      " [[0.09861837]\n",
      "  [0.08242025]\n",
      "  [0.07781486]\n",
      "  [0.08035569]\n",
      "  [0.08909006]\n",
      "  [0.08019685]\n",
      "  [0.07813241]\n",
      "  [0.07495634]\n",
      "  [0.08384943]\n",
      "  [0.07305064]]\n",
      "\n",
      " [[0.08242025]\n",
      "  [0.07781486]\n",
      "  [0.08035569]\n",
      "  [0.08909006]\n",
      "  [0.08019685]\n",
      "  [0.07813241]\n",
      "  [0.07495634]\n",
      "  [0.08384943]\n",
      "  [0.07305064]\n",
      "  [0.07575031]]\n",
      "\n",
      " [[0.07781486]\n",
      "  [0.08035569]\n",
      "  [0.08909006]\n",
      "  [0.08019685]\n",
      "  [0.07813241]\n",
      "  [0.07495634]\n",
      "  [0.08384943]\n",
      "  [0.07305064]\n",
      "  [0.07575031]\n",
      "  [0.07590915]]\n",
      "\n",
      " [[0.08035569]\n",
      "  [0.08909006]\n",
      "  [0.08019685]\n",
      "  [0.07813241]\n",
      "  [0.07495634]\n",
      "  [0.08384943]\n",
      "  [0.07305064]\n",
      "  [0.07575031]\n",
      "  [0.07590915]\n",
      "  [0.10147689]]\n",
      "\n",
      " [[0.08909006]\n",
      "  [0.08019685]\n",
      "  [0.07813241]\n",
      "  [0.07495634]\n",
      "  [0.08384943]\n",
      "  [0.07305064]\n",
      "  [0.07575031]\n",
      "  [0.07590915]\n",
      "  [0.10147689]\n",
      "  [0.10894078]]\n",
      "\n",
      " [[0.08019685]\n",
      "  [0.07813241]\n",
      "  [0.07495634]\n",
      "  [0.08384943]\n",
      "  [0.07305064]\n",
      "  [0.07575031]\n",
      "  [0.07590915]\n",
      "  [0.10147689]\n",
      "  [0.10894078]\n",
      "  [0.09369544]]\n",
      "\n",
      " [[0.07813241]\n",
      "  [0.07495634]\n",
      "  [0.08384943]\n",
      "  [0.07305064]\n",
      "  [0.07575031]\n",
      "  [0.07590915]\n",
      "  [0.10147689]\n",
      "  [0.10894078]\n",
      "  [0.09369544]\n",
      "  [0.09274253]]\n",
      "\n",
      " [[0.07495634]\n",
      "  [0.08384943]\n",
      "  [0.07305064]\n",
      "  [0.07575031]\n",
      "  [0.07590915]\n",
      "  [0.10147689]\n",
      "  [0.10894078]\n",
      "  [0.09369544]\n",
      "  [0.09274253]\n",
      "  [0.10735274]]] \n",
      "\n",
      "X_test sample values:\n",
      "[[[0.85532794]\n",
      "  [0.7659202 ]\n",
      "  [0.77830715]\n",
      "  [0.80625689]\n",
      "  [0.84945207]\n",
      "  [0.87803716]\n",
      "  [0.87422574]\n",
      "  [0.8546927 ]\n",
      "  [0.83023659]\n",
      "  [0.83230102]]\n",
      "\n",
      " [[0.7659202 ]\n",
      "  [0.77830715]\n",
      "  [0.80625689]\n",
      "  [0.84945207]\n",
      "  [0.87803716]\n",
      "  [0.87422574]\n",
      "  [0.8546927 ]\n",
      "  [0.83023659]\n",
      "  [0.83230102]\n",
      "  [0.85834517]]\n",
      "\n",
      " [[0.77830715]\n",
      "  [0.80625689]\n",
      "  [0.84945207]\n",
      "  [0.87803716]\n",
      "  [0.87422574]\n",
      "  [0.8546927 ]\n",
      "  [0.83023659]\n",
      "  [0.83230102]\n",
      "  [0.85834517]\n",
      "  [0.92933137]]\n",
      "\n",
      " [[0.80625689]\n",
      "  [0.84945207]\n",
      "  [0.87803716]\n",
      "  [0.87422574]\n",
      "  [0.8546927 ]\n",
      "  [0.83023659]\n",
      "  [0.83230102]\n",
      "  [0.85834517]\n",
      "  [0.92933137]\n",
      "  [0.88534221]]\n",
      "\n",
      " [[0.84945207]\n",
      "  [0.87803716]\n",
      "  [0.87422574]\n",
      "  [0.8546927 ]\n",
      "  [0.83023659]\n",
      "  [0.83230102]\n",
      "  [0.85834517]\n",
      "  [0.92933137]\n",
      "  [0.88534221]\n",
      "  [0.88359535]]\n",
      "\n",
      " [[0.87803716]\n",
      "  [0.87422574]\n",
      "  [0.8546927 ]\n",
      "  [0.83023659]\n",
      "  [0.83230102]\n",
      "  [0.85834517]\n",
      "  [0.92933137]\n",
      "  [0.88534221]\n",
      "  [0.88359535]\n",
      "  [0.8688264 ]]\n",
      "\n",
      " [[0.87422574]\n",
      "  [0.8546927 ]\n",
      "  [0.83023659]\n",
      "  [0.83230102]\n",
      "  [0.85834517]\n",
      "  [0.92933137]\n",
      "  [0.88534221]\n",
      "  [0.88359535]\n",
      "  [0.8688264 ]\n",
      "  [0.86056856]]\n",
      "\n",
      " [[0.8546927 ]\n",
      "  [0.83023659]\n",
      "  [0.83230102]\n",
      "  [0.85834517]\n",
      "  [0.92933137]\n",
      "  [0.88534221]\n",
      "  [0.88359535]\n",
      "  [0.8688264 ]\n",
      "  [0.86056856]\n",
      "  [0.78402405]]\n",
      "\n",
      " [[0.83023659]\n",
      "  [0.83230102]\n",
      "  [0.85834517]\n",
      "  [0.92933137]\n",
      "  [0.88534221]\n",
      "  [0.88359535]\n",
      "  [0.8688264 ]\n",
      "  [0.86056856]\n",
      "  [0.78402405]\n",
      "  [0.72129581]]\n",
      "\n",
      " [[0.83230102]\n",
      "  [0.85834517]\n",
      "  [0.92933137]\n",
      "  [0.88534221]\n",
      "  [0.88359535]\n",
      "  [0.8688264 ]\n",
      "  [0.86056856]\n",
      "  [0.78402405]\n",
      "  [0.72129581]\n",
      "  [0.74289341]]]\n"
     ]
    }
   ],
   "source": [
    "# Reshape the features for the model\n",
    "X_train = X_train.reshape((X_train.shape[0], X_train.shape[1], 1))\n",
    "X_test = X_test.reshape((X_test.shape[0], X_test.shape[1], 1))\n",
    "print (f\"X_train sample values:\\n{X_train[:10]} \\n\")\n",
    "print (f\"X_test sample values:\\n{X_test[:10]}\")\n"
   ]
  },
  {
   "cell_type": "code",
   "execution_count": 10,
   "metadata": {},
   "outputs": [],
   "source": [
    "# Build and Tranin the LSTM RNN"
   ]
  },
  {
   "cell_type": "code",
   "execution_count": 11,
   "metadata": {},
   "outputs": [],
   "source": [
    "from tensorflow.keras.models import Sequential\n",
    "from tensorflow.keras.layers import LSTM, Dense, Dropout"
   ]
  },
  {
   "cell_type": "code",
   "execution_count": 12,
   "metadata": {},
   "outputs": [],
   "source": [
    "# The LSTM RNN model.\n",
    "model = Sequential()\n",
    "\n",
    "number_units = 10\n",
    "dropout_fraction = 0.2\n",
    "\n",
    "# Layer 1\n",
    "model.add(LSTM(\n",
    "    units=number_units,\n",
    "    return_sequences=True,\n",
    "    input_shape=(X_train.shape[1], 1))\n",
    "    )\n",
    "model.add(Dropout(dropout_fraction))\n",
    "# Layer 2\n",
    "model.add(LSTM(units=number_units, return_sequences=True))\n",
    "model.add(Dropout(dropout_fraction))\n",
    "# Layer 3\n",
    "model.add(LSTM(units=number_units))\n",
    "model.add(Dropout(dropout_fraction))\n",
    "# Output layer\n",
    "model.add(Dense(1))"
   ]
  },
  {
   "cell_type": "code",
   "execution_count": 13,
   "metadata": {},
   "outputs": [],
   "source": [
    "# Compile the model\n",
    "model.compile(optimizer='adam', loss='mean_squared_error')"
   ]
  },
  {
   "cell_type": "code",
   "execution_count": 14,
   "metadata": {},
   "outputs": [
    {
     "name": "stdout",
     "output_type": "stream",
     "text": [
      "Model: \"sequential\"\n",
      "_________________________________________________________________\n",
      "Layer (type)                 Output Shape              Param #   \n",
      "=================================================================\n",
      "lstm (LSTM)                  (None, 10, 10)            480       \n",
      "_________________________________________________________________\n",
      "dropout (Dropout)            (None, 10, 10)            0         \n",
      "_________________________________________________________________\n",
      "lstm_1 (LSTM)                (None, 10, 10)            840       \n",
      "_________________________________________________________________\n",
      "dropout_1 (Dropout)          (None, 10, 10)            0         \n",
      "_________________________________________________________________\n",
      "lstm_2 (LSTM)                (None, 10)                840       \n",
      "_________________________________________________________________\n",
      "dropout_2 (Dropout)          (None, 10)                0         \n",
      "_________________________________________________________________\n",
      "dense (Dense)                (None, 1)                 11        \n",
      "=================================================================\n",
      "Total params: 2,171\n",
      "Trainable params: 2,171\n",
      "Non-trainable params: 0\n",
      "_________________________________________________________________\n"
     ]
    }
   ],
   "source": [
    "# Summarize the model\n",
    "model.summary()"
   ]
  },
  {
   "cell_type": "code",
   "execution_count": 15,
   "metadata": {},
   "outputs": [
    {
     "name": "stdout",
     "output_type": "stream",
     "text": [
      "Train on 429 samples\n",
      "Epoch 1/10\n",
      "429/429 [==============================] - 8s 18ms/sample - loss: 0.0101TA: 9s\n",
      "Epoch 2/10\n",
      "429/429 [==============================] - 4s 10ms/sample - loss: 0.0182\n",
      "Epoch 3/10\n",
      "429/429 [==============================] - 4s 10ms/sample - loss: 0.01791s - loss: 0.018\n",
      "Epoch 4/10\n",
      "429/429 [==============================] - 4s 10ms/sample - loss: 0.0178- ETA: 2s - loss: 0.020 - ETA: 2s - ETA: 1s - los - ETA: 0s - loss: 0.01 - ETA: 0s - lo\n",
      "Epoch 5/10\n",
      "429/429 [==============================] - 4s 10ms/sample - loss: 0.01253s - loss: 0 - ETA: 3s - loss: 0.0 - ETA: 3s - loss: 0.019 - ETA: 2s - loss: 0 - ETA: 2 - ETA: 1s - loss: 0. - ETA: 1s - los - ETA: 0s -\n",
      "Epoch 6/10\n",
      "429/429 [==============================] - 5s 11ms/sample - loss: 0.00953s - loss - ETA - ETA: \n",
      "Epoch 7/10\n",
      "429/429 [==============================] - 5s 11ms/sample - loss: 0.0080\n",
      "Epoch 8/10\n",
      "429/429 [==============================] - 5s 11ms/sample - loss: 0.00823s - loss - - ETA: 1s - - ETA: 0s \n",
      "Epoch 9/10\n",
      "429/429 [==============================] - 5s 11ms/sample - loss: 0.00673s - loss: 0.00 - ETA: 3s - loss: 0.006 -  - ETA: 2s - lo - ETA: 0s - loss: 0.006\n",
      "Epoch 10/10\n",
      "429/429 [==============================] - 4s 10ms/sample - loss: 0.00833s - - ETA: 2s - los - ETA: 2s - loss: 0.004 - ETA: 2s - l\n"
     ]
    },
    {
     "data": {
      "text/plain": [
       "<tensorflow.python.keras.callbacks.History at 0x1717b3299b0>"
      ]
     },
     "execution_count": 15,
     "metadata": {},
     "output_type": "execute_result"
    }
   ],
   "source": [
    "# Train the model\n",
    "model.fit(X_train, y_train, epochs=10, shuffle=False, batch_size=1, verbose=1)"
   ]
  },
  {
   "cell_type": "code",
   "execution_count": 16,
   "metadata": {},
   "outputs": [],
   "source": [
    "# Model Performance"
   ]
  },
  {
   "cell_type": "code",
   "execution_count": 17,
   "metadata": {},
   "outputs": [
    {
     "name": "stdout",
     "output_type": "stream",
     "text": [
      "185/1 [==============================================================================================================================================================================================================================================================================================================================================================================================================================================================================================================================================================================================================================================================================================================================================================================================================================================================================================================================================================================================================================================================================================================================================================================================================================================================================================================================================================================================================================================================================================================================================================================================================================================================================================================================================================================================================================================================================================================================================================================================================================================================================================================================================================================================================================================================================================================================================================================================================================================================================================================================================================================================================================================================================================================================================================================================================================================================================================================================================================================================================================================================================================================================================================================================================================================================================================================================================================================================================================================================================================================================================================================================================================================================================================================================================================================================================================================================================================================================================================================================================================================================================================================================================================================================================================================================================================================================================================================================================================================================================================================================================================================================================================================================================================================================================================================================================================================================================================================================================================================================================================================================================================================================================================================================================================================================================================================================================================================================================================================================================================================================================================================================================================================================================================================================================================================] - 1s 5ms/sample - loss: 0.0465\n"
     ]
    },
    {
     "data": {
      "text/plain": [
       "0.052108617006121453"
      ]
     },
     "execution_count": 17,
     "metadata": {},
     "output_type": "execute_result"
    }
   ],
   "source": [
    "# Evaluate the model\n",
    "model.evaluate(X_test, y_test)"
   ]
  },
  {
   "cell_type": "code",
   "execution_count": 18,
   "metadata": {},
   "outputs": [],
   "source": [
    "# Predictions\n",
    "predicted = model.predict(X_test)"
   ]
  },
  {
   "cell_type": "code",
   "execution_count": 20,
   "metadata": {},
   "outputs": [],
   "source": [
    "# # Recovering the original prices instead of the scaled version\n",
    "predicted_prices = scaler.inverse_transform(predicted)\n",
    "real_prices = scaler.inverse_transform(y_test.reshape(-1, 1))"
   ]
  },
  {
   "cell_type": "code",
   "execution_count": 21,
   "metadata": {},
   "outputs": [
    {
     "data": {
      "text/html": [
       "<div>\n",
       "<style scoped>\n",
       "    .dataframe tbody tr th:only-of-type {\n",
       "        vertical-align: middle;\n",
       "    }\n",
       "\n",
       "    .dataframe tbody tr th {\n",
       "        vertical-align: top;\n",
       "    }\n",
       "\n",
       "    .dataframe thead th {\n",
       "        text-align: right;\n",
       "    }\n",
       "</style>\n",
       "<table border=\"1\" class=\"dataframe\">\n",
       "  <thead>\n",
       "    <tr style=\"text-align: right;\">\n",
       "      <th></th>\n",
       "      <th>Real</th>\n",
       "      <th>Predicted</th>\n",
       "    </tr>\n",
       "  </thead>\n",
       "  <tbody>\n",
       "    <tr>\n",
       "      <th>0</th>\n",
       "      <td>115.519997</td>\n",
       "      <td>116.102966</td>\n",
       "    </tr>\n",
       "    <tr>\n",
       "      <th>1</th>\n",
       "      <td>119.989998</td>\n",
       "      <td>116.078949</td>\n",
       "    </tr>\n",
       "    <tr>\n",
       "      <th>2</th>\n",
       "      <td>117.220001</td>\n",
       "      <td>116.152145</td>\n",
       "    </tr>\n",
       "    <tr>\n",
       "      <th>3</th>\n",
       "      <td>117.110001</td>\n",
       "      <td>116.219948</td>\n",
       "    </tr>\n",
       "    <tr>\n",
       "      <th>4</th>\n",
       "      <td>116.180000</td>\n",
       "      <td>116.265579</td>\n",
       "    </tr>\n",
       "  </tbody>\n",
       "</table>\n",
       "</div>"
      ],
      "text/plain": [
       "         Real   Predicted\n",
       "0  115.519997  116.102966\n",
       "1  119.989998  116.078949\n",
       "2  117.220001  116.152145\n",
       "3  117.110001  116.219948\n",
       "4  116.180000  116.265579"
      ]
     },
     "execution_count": 21,
     "metadata": {},
     "output_type": "execute_result"
    }
   ],
   "source": [
    "# Create a DataFrame of Real and Predicted values\n",
    "stocks = pd.DataFrame({\n",
    "    \"Real\": real_prices.ravel(),\n",
    "    \"Predicted\": predicted_prices.ravel()\n",
    "})\n",
    "stocks.head()"
   ]
  },
  {
   "cell_type": "code",
   "execution_count": 25,
   "metadata": {},
   "outputs": [
    {
     "data": {
      "text/plain": [
       "<matplotlib.axes._subplots.AxesSubplot at 0x17109515630>"
      ]
     },
     "execution_count": 25,
     "metadata": {},
     "output_type": "execute_result"
    },
    {
     "data": {
      "image/png": "[encoded data removed]",
      "text/plain": [
       "<Figure size 432x288 with 1 Axes>"
      ]
     },
     "metadata": {
      "needs_background": "light"
     },
     "output_type": "display_data"
    }
   ],
   "source": [
    "# Plot the real vs predicted prices as a line chart\n",
    "stocks.plot()"
   ]
  },
  {
   "cell_type": "code",
   "execution_count": null,
   "metadata": {},
   "outputs": [],
   "source": []
  }
 ],
 "metadata": {
  "kernelspec": {
   "display_name": "Python 3",
   "language": "python",
   "name": "python3"
  },
  "language_info": {
   "codemirror_mode": {
    "name": "ipython",
    "version": 3
   },
   "file_extension": ".py",
   "mimetype": "text/x-python",
   "name": "python",
   "nbconvert_exporter": "python",
   "pygments_lexer": "ipython3",
   "version": "3.7.5"
  }
 },
 "nbformat": 4,
 "nbformat_minor": 4
}
